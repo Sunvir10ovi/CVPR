{
 "cells": [
  {
   "cell_type": "markdown",
   "metadata": {},
   "source": [
    "<center>CVPR, Finalterm Project, Spring 2022-23<br>\n",
    "Title: An Extended ResUNet++ Architecture for Colonoscopic Image Segmentation<br>\n",
    "</center>"
   ]
  },
  {
   "cell_type": "code",
   "execution_count": 1,
   "metadata": {
    "execution": {
     "iopub.execute_input": "2023-05-16T10:39:31.336415Z",
     "iopub.status.busy": "2023-05-16T10:39:31.336020Z",
     "iopub.status.idle": "2023-05-16T10:39:34.263928Z",
     "shell.execute_reply": "2023-05-16T10:39:34.262983Z",
     "shell.execute_reply.started": "2023-05-16T10:39:31.336375Z"
    }
   },
   "outputs": [],
   "source": [
    "import os\n",
    "import numpy as np\n",
    "import cv2\n",
    "import random\n",
    "import tensorflow as tf\n",
    "from keras import layers\n",
    "from keras.models import Model\n",
    "from glob import glob\n",
    "from scipy.ndimage import rotate\n",
    "from tqdm import tqdm\n",
    "from sklearn.model_selection import train_test_split\n",
    "from keras.utils import Sequence\n",
    "from keras import backend as K\n",
    "from keras.metrics import Precision, Recall, MeanIoU\n",
    "from keras.optimizers import Adam, Nadam, SGD\n",
    "from keras.callbacks import EarlyStopping, ModelCheckpoint, ReduceLROnPlateau"
   ]
  },
  {
   "cell_type": "code",
   "execution_count": 2,
   "metadata": {
    "execution": {
     "iopub.execute_input": "2023-05-16T10:39:39.834568Z",
     "iopub.status.busy": "2023-05-16T10:39:39.834192Z",
     "iopub.status.idle": "2023-05-16T10:39:39.865723Z",
     "shell.execute_reply": "2023-05-16T10:39:39.864275Z",
     "shell.execute_reply.started": "2023-05-16T10:39:39.834536Z"
    }
   },
   "outputs": [],
   "source": [
    "def read_image(imagefile, grayscale=False):\n",
    "    if grayscale == True:\n",
    "        image = cv2.imread(imagefile)\n",
    "        #image = np.expand_dims(image, -1)\n",
    "    else:\n",
    "        image = cv2.imread(imagefile)\n",
    "    return image\n",
    "\n",
    "def save_image(image, mask, path, binary=True):\n",
    "    image = np.array(image)\n",
    "    if binary == True:\n",
    "        mask = cv2.cvtColor(mask, cv2.COLOR_BGR2GRAY)\n",
    "    cv2.imwrite(path[0], image)\n",
    "    cv2.imwrite(path[1], mask)\n",
    "\n",
    "def concat_images(images, rows, cols):\n",
    "    _, h, w, _ = images.shape\n",
    "    images = images.reshape((rows, cols, h, w, 3))\n",
    "    images = images.transpose(0, 2, 1, 3, 4)\n",
    "    images = images.reshape((rows * h, cols * w, 3))\n",
    "    return images\n",
    "\n",
    "def check_size(size):\n",
    "    if type(size) == int:\n",
    "        size = (size, size)\n",
    "    if type(size) != tuple:\n",
    "        raise TypeError('size is int or tuple')\n",
    "    return size\n",
    "\n",
    "def subtract(image):\n",
    "    image = image / 255\n",
    "    return image\n",
    "\n",
    "def resize(image, size):\n",
    "    size = check_size(size)\n",
    "    image = cv2.resize(image, size)\n",
    "    return image\n",
    "\n",
    "def center_crop(image, mask, crop_size, size):\n",
    "    h, w, _ = image.shape\n",
    "    crop_size = check_size(crop_size)\n",
    "    top = (h - crop_size[0]) // 2\n",
    "    left = (w - crop_size[1]) // 2\n",
    "    bottom = top + crop_size[0]\n",
    "    right = left + crop_size[1]\n",
    "\n",
    "    image = image[top:bottom, left:right, :]\n",
    "    mask = mask[top:bottom, left:right, :]\n",
    "\n",
    "    image = resize(image, size)\n",
    "    mask = resize(mask, size)\n",
    "\n",
    "    return image, mask\n",
    "\n",
    "def random_crop(image, mask, crop_size, size):\n",
    "    crop_size = check_size(crop_size)\n",
    "    h, w, _ = image.shape\n",
    "    top = np.random.randint(0, h - crop_size[0])\n",
    "    left = np.random.randint(0, w - crop_size[1])\n",
    "    bottom = top + crop_size[0]\n",
    "    right = left + crop_size[1]\n",
    "\n",
    "    image = image[top:bottom, left:right, :]\n",
    "    mask = mask[top:bottom, left:right, :]\n",
    "\n",
    "    image = resize(image, size)\n",
    "    mask = resize(mask, size)\n",
    "\n",
    "    return image, mask\n",
    "\n",
    "def horizontal_flip(image, mask, size):\n",
    "    image = image[:, ::-1, :]\n",
    "    mask = mask[:, ::-1, :]\n",
    "\n",
    "    image = resize(image, size)\n",
    "    mask = resize(mask, size)\n",
    "\n",
    "    return image, mask\n",
    "\n",
    "def vertical_flip(image, mask, size):\n",
    "    image = image[::-1, :, :]\n",
    "    mask = mask[::-1, :, :]\n",
    "\n",
    "    image = resize(image, size)\n",
    "    mask = resize(mask, size)\n",
    "\n",
    "    return image, mask\n",
    "\n",
    "def scale_augmentation(image, mask, scale_range, crop_size, size):\n",
    "    scale_size = np.random.randint(*scale_range)\n",
    "    image = cv2.resize(image, (scale_size, scale_size))\n",
    "    mask = cv2.resize(mask, (scale_size, scale_size))\n",
    "    image, mask = random_crop(image, mask, crop_size, size)\n",
    "    return image, mask\n",
    "\n",
    "def random_rotation(image, mask, size, angle_range=(0, 90)):\n",
    "    h1, w1, _ = image.shape\n",
    "    h2, w2, _ = mask.shape\n",
    "\n",
    "    angle = np.random.randint(*angle_range)\n",
    "    image = rotate(image, angle)\n",
    "    image = resize(image, (h1, w1))\n",
    "\n",
    "    mask = rotate(mask, angle)\n",
    "    mask = resize(mask, (h2, w2))\n",
    "\n",
    "    image = resize(image, size)\n",
    "    mask = resize(mask, size)\n",
    "\n",
    "    return image, mask\n",
    "\n",
    "def cutout(image_origin, mask_origin, size, mask_value='mean'):\n",
    "    image = np.copy(image_origin)\n",
    "    mask = np.copy(mask_origin)\n",
    "\n",
    "    if mask_value == 'mean':\n",
    "        mask_value = image.mean()\n",
    "    elif mask_value == 'random':\n",
    "        mask_value = np.random.randint(0, 256)\n",
    "\n",
    "    h, w, _ = image.shape\n",
    "    top = np.random.randint(0 - size // 2, h - size)\n",
    "    left = np.random.randint(0 - size // 2, w - size)\n",
    "    bottom = top + size\n",
    "    right = left + size\n",
    "    if top < 0:\n",
    "        top = 0\n",
    "    if left < 0:\n",
    "        left = 0\n",
    "\n",
    "    image[top:bottom, left:right, :].fill(mask_value)\n",
    "    mask[top:bottom, left:right, :].fill(0)\n",
    "\n",
    "    image = resize(image, size)\n",
    "    mask = resize(mask, size)\n",
    "\n",
    "    return image, mask\n",
    "\n",
    "def brightness_augment(img, mask, size, factor=0.5):\n",
    "    hsv = cv2.cvtColor(img, cv2.COLOR_RGB2HSV) #convert to hsv\n",
    "    hsv = np.array(hsv, dtype=np.float64)\n",
    "    hsv[:, :, 2] = hsv[:, :, 2] * (factor + np.random.uniform()) #scale channel V uniformly\n",
    "    hsv[:, :, 2][hsv[:, :, 2] > 255] = 255 #reset out of range values\n",
    "    rgb = cv2.cvtColor(np.array(hsv, dtype=np.uint8), cv2.COLOR_HSV2RGB)\n",
    "\n",
    "    image = resize(rgb, size)\n",
    "    mask = resize(mask, size)\n",
    "\n",
    "    return image, mask\n",
    "\n",
    "def rgb_to_grayscale(img, mask, size):\n",
    "    img = cv2.cvtColor(img, cv2.COLOR_RGB2GRAY)\n",
    "    img = [img, img, img]\n",
    "    img = np.transpose(img, (1, 2, 0))\n",
    "\n",
    "    image = resize(img, size)\n",
    "    mask = resize(mask, size)\n",
    "    return image, mask\n",
    "\n",
    "def create_dir(name):\n",
    "    try:\n",
    "        if not os.path.exists(name):\n",
    "            os.mkdir(name)\n",
    "    except:\n",
    "        pass\n"
   ]
  },
  {
   "cell_type": "code",
   "execution_count": 4,
   "metadata": {
    "execution": {
     "iopub.execute_input": "2023-05-16T10:39:48.668594Z",
     "iopub.status.busy": "2023-05-16T10:39:48.668230Z",
     "iopub.status.idle": "2023-05-16T10:39:48.679688Z",
     "shell.execute_reply": "2023-05-16T10:39:48.678649Z",
     "shell.execute_reply.started": "2023-05-16T10:39:48.668565Z"
    }
   },
   "outputs": [],
   "source": [
    "# Augmentation\n",
    "size = (256, 256)\n",
    "crop_size = (300, 300)\n",
    "\n",
    "path = \"/kaggle/input/kvasirseg\"\n",
    "full_path = os.path.join(path, \"Kvasir-SEG/\")\n",
    "\n",
    "new_path = \"/kaggle/working/kvasirseg/New_Kvasir-SEG/\"\n",
    "create_dir(new_path)\n",
    "new_full_path = os.path.join(new_path, \"Kvasir-SEG/\")\n",
    "\n",
    "train_path = os.path.join(new_full_path, \"train/\")\n",
    "valid_path = os.path.join(new_full_path, \"valid/\")\n",
    "test_path = os.path.join(new_full_path, \"test/\")\n",
    "\n",
    "if not os.path.exists(new_full_path):\n",
    "    os.mkdir(new_full_path)\n",
    "    for path in [train_path, valid_path, test_path]:\n",
    "        os.mkdir(path)\n",
    "        os.mkdir(os.path.join(path, \"images/\"))\n",
    "        os.mkdir(os.path.join(path, \"masks/\"))\n",
    "\n",
    "images = glob(os.path.join(full_path, \"images\", \"*.*\"))\n",
    "masks = glob(os.path.join(full_path, \"masks\", \"*.*\"))\n",
    "\n",
    "images.sort()\n",
    "masks.sort()\n",
    "\n",
    "len_ids = len(images)\n",
    "train_size = int((80/100)*len_ids)\n",
    "valid_size = int((10/100)*len_ids)\n",
    "test_size = int((10/100)*len_ids)\n",
    "\n",
    "train_images, test_images = train_test_split(images, test_size=test_size, random_state=42)\n",
    "train_masks, test_masks = train_test_split(masks, test_size=test_size, random_state=42)\n",
    "\n",
    "train_images, valid_images = train_test_split(train_images, test_size=test_size, random_state=42)\n",
    "train_masks, valid_masks = train_test_split(train_masks, test_size=test_size, random_state=42)\n",
    "\n",
    "print(\"Total Size: \", len_ids)\n",
    "print(\"Training Size: \", len(train_images))\n",
    "print(\"Validation Size: \", len(valid_images))\n",
    "print(\"Testing Size: \", len(test_images))\n",
    "\n",
    "# Testing images and masks resizing\n",
    "for idx, p in tqdm(enumerate(test_images), total=len(test_images)): # p = path\n",
    "\n",
    "    name = p.split(\"\\\\\")[-1].split(\".\")[0]\n",
    "    image_path = test_images[idx]\n",
    "    mask_path = test_masks[idx]\n",
    "\n",
    "    if os.path.exists(image_path) and os.path.exists(mask_path):\n",
    "        image = read_image(image_path)\n",
    "        mask = read_image(mask_path, grayscale=True)\n",
    "\n",
    "        new_image_path = os.path.join(new_full_path, \"test\", \"images/\")\n",
    "        new_mask_path = os.path.join(new_full_path, \"test\", \"masks/\")\n",
    "\n",
    "        image = resize(image, size)\n",
    "        mask = resize(mask, size)\n",
    "\n",
    "        img_path = new_image_path + str(name) + \".jpg\"\n",
    "        mask_path = new_mask_path + str(name) + \".jpg\"\n",
    "        tmp_path = [img_path, mask_path]\n",
    "        save_image(image, mask, tmp_path, binary=True)\n",
    "\n",
    "# Validation images and masks resizing\n",
    "for idx, p in tqdm(enumerate(valid_images), total=len(valid_images)):\n",
    "\n",
    "    name = p.split(\"\\\\\")[-1].split(\".\")[0]\n",
    "    image_path = valid_images[idx]\n",
    "    mask_path = valid_masks[idx]\n",
    "\n",
    "    if os.path.exists(image_path) and os.path.exists(mask_path):\n",
    "        image = read_image(image_path)\n",
    "        mask = read_image(mask_path, grayscale=True)\n",
    "\n",
    "        new_image_path = os.path.join(new_full_path, \"valid\", \"images/\")\n",
    "        new_mask_path = os.path.join(new_full_path, \"valid\", \"masks/\")\n",
    "\n",
    "        image = resize(image, size)\n",
    "        mask = resize(mask, size)\n",
    "\n",
    "        img_path = new_image_path + str(name) + \".jpg\"\n",
    "        mask_path = new_mask_path + str(name) + \".jpg\"\n",
    "        tmp_path = [img_path, mask_path]\n",
    "        save_image(image, mask, tmp_path, binary=True)\n",
    "\n",
    "# Training images and masks preprocessing\n",
    "for idx, p in tqdm(enumerate(train_images), total=len(train_images)):\n",
    "\n",
    "    name = p.split(\"\\\\\")[-1].split(\".\")[0]\n",
    "    image_path = train_images[idx]\n",
    "    mask_path = train_masks[idx]\n",
    "\n",
    "    if os.path.exists(image_path) and os.path.exists(mask_path):\n",
    "        image = read_image(image_path)\n",
    "        mask = read_image(mask_path, grayscale=True)\n",
    "\n",
    "        # Augment the images and masks\n",
    "        image1, mask1 = center_crop(image, mask, crop_size, size)\n",
    "        image2, mask2 = random_crop(image, mask, crop_size, size)\n",
    "        image3, mask3 = horizontal_flip(image, mask, size)\n",
    "        image4, mask4 = vertical_flip(image, mask, size)\n",
    "        image5, mask5 = scale_augmentation(image, mask, (512, 768), crop_size, size)\n",
    "        image6, mask6 = random_rotation(image, mask, size)\n",
    "        image7, mask7 = cutout(image, mask, 256)\n",
    "        # Extra Cropping\n",
    "        image8, mask8 = random_crop(image, mask, crop_size, size)\n",
    "        image9, mask9 = random_crop(image, mask, crop_size, size)\n",
    "        # Extra Scale Augmentation\n",
    "        image10, mask10 = scale_augmentation(image, mask, (540, 820), crop_size, size)\n",
    "        image11, mask11 = scale_augmentation(image, mask, (720, 1024), crop_size, size)\n",
    "        # Extra Rotation\n",
    "        image12, mask12 = random_rotation(image, mask, size)\n",
    "        image13, mask13 = random_rotation(image, mask, size)\n",
    "        # Brightness\n",
    "        image14, mask14 = brightness_augment(image, mask, size, factor=0.3)\n",
    "        image15, mask15 = brightness_augment(image, mask, size, factor=0.6)\n",
    "        image16, mask16 = brightness_augment(image, mask, size, factor=0.9)\n",
    "        # More Rotation\n",
    "        image17, mask17 = random_rotation(image, mask, size)\n",
    "        image18, mask18 = random_rotation(image, mask, size)\n",
    "        # More Random Crop\n",
    "        image19, mask19 = random_crop(image, mask, crop_size, size)\n",
    "        image20, mask20 = random_crop(image, mask, crop_size, size)\n",
    "        # More Cutout\n",
    "        image21, mask21 = cutout(image, mask, 256)\n",
    "        image22, mask22 = cutout(image, mask, 256)\n",
    "        # Grayscale\n",
    "        image23, mask23 = rgb_to_grayscale(image, mask, size)\n",
    "        image24, mask24 = rgb_to_grayscale(image1, mask1, size)\n",
    "        image25, mask25 = rgb_to_grayscale(image2, mask2, size)\n",
    "        image26, mask26 = rgb_to_grayscale(image3, mask3, size)\n",
    "        image27, mask27 = rgb_to_grayscale(image4, mask4, size)\n",
    "        image28, mask28 = rgb_to_grayscale(image5, mask5, size)\n",
    "        image29, mask29 = rgb_to_grayscale(image15, mask15, size)\n",
    "        image30, mask30 = rgb_to_grayscale(image16, mask16, size)\n",
    "\n",
    "        # Original image and mask\n",
    "        image = resize(image, size)\n",
    "        mask = resize(mask, size)\n",
    "\n",
    "        # All images and masks\n",
    "        all_images = [image, image1, image2, image3, image4, image5, image6, image7, \n",
    "                      image8, image9, image10, image11, image12, image13, image14, image15, image16, \n",
    "                      image17, image18, image19, image20, image21, image22, \n",
    "                      image23,image24, image25, image26, image27, image28, image29, image30]\n",
    "        \n",
    "        all_masks  = [mask, mask1, mask2, mask3, mask4, mask5, mask6, mask7, mask8, \n",
    "                      mask9, mask10, mask11, mask12, mask13, mask14, mask15, mask16, \n",
    "                      mask17, mask18, mask19, mask20, mask21, mask22, \n",
    "                      mask23, mask24, mask25, mask26, mask27, mask28, mask29, mask30]\n",
    "\n",
    "        # Saving all the images and masks\n",
    "        new_image_path = os.path.join(new_full_path, \"train\", \"images/\")\n",
    "        new_mask_path = os.path.join(new_full_path, \"train\", \"masks/\")\n",
    "\n",
    "        for j in range(len(all_images)):\n",
    "            img_path = new_image_path + str(name) + \"_\" + str(j) + \".jpg\"\n",
    "            msk_path = new_mask_path + str(name) + \"_\" + str(j) + \".jpg\"\n",
    "\n",
    "            img = all_images[j]\n",
    "            msk = all_masks[j]\n",
    "            path = [img_path, msk_path]\n",
    "\n",
    "            save_image(img, msk, path, binary=True)"
   ]
  },
  {
   "cell_type": "code",
   "execution_count": 3,
   "metadata": {
    "execution": {
     "iopub.execute_input": "2023-05-16T10:39:55.885217Z",
     "iopub.status.busy": "2023-05-16T10:39:55.884805Z",
     "iopub.status.idle": "2023-05-16T10:39:55.897644Z",
     "shell.execute_reply": "2023-05-16T10:39:55.896508Z",
     "shell.execute_reply.started": "2023-05-16T10:39:55.885183Z"
    }
   },
   "outputs": [],
   "source": [
    "def parse_image(img_path, image_size):\n",
    "    image_rgb = cv2.imread(img_path, 1)\n",
    "    h, w, _ = image_rgb.shape\n",
    "    if (h == image_size) and (w == image_size):\n",
    "        pass\n",
    "    else:\n",
    "        image_rgb = cv2.resize(image_rgb, (image_size, image_size))\n",
    "    image_rgb = image_rgb.astype(np.float32)/255.0\n",
    "\n",
    "    return image_rgb\n",
    "\n",
    "\n",
    "def parse_mask(mask_path, image_size):\n",
    "    mask = cv2.imread(mask_path, -1)\n",
    "    h, w = mask.shape\n",
    "    if (h == image_size) and (w == image_size):\n",
    "        pass\n",
    "    else:\n",
    "        mask = cv2.resize(mask, (image_size, image_size))\n",
    "    mask = np.expand_dims(mask, -1)\n",
    "    mask = mask.astype(np.float32)/255.0\n",
    "\n",
    "    return mask\n",
    "\n",
    "\n",
    "class DataGen(Sequence):\n",
    "    def __init__(self, image_size, images_path, masks_path, batch_size=8):\n",
    "        self.image_size = image_size\n",
    "        self.images_path = images_path\n",
    "        self.masks_path = masks_path\n",
    "        self.batch_size = batch_size\n",
    "        self.on_epoch_end()\n",
    "\n",
    "    def __getitem__(self, index):\n",
    "        if(index+1)*self.batch_size > len(self.images_path):\n",
    "            self.batch_size = len(self.images_path) - index*self.batch_size\n",
    "\n",
    "        images_path = self.images_path[index*self.batch_size : (index+1)*self.batch_size]\n",
    "        masks_path = self.masks_path[index*self.batch_size : (index+1)*self.batch_size]\n",
    "\n",
    "        images_batch = []\n",
    "        masks_batch = []\n",
    "\n",
    "        for i in range(len(images_path)):                       # Read image and mask\n",
    "            image = parse_image(images_path[i], self.image_size)\n",
    "            mask = parse_mask(masks_path[i], self.image_size)\n",
    "\n",
    "            images_batch.append(image)\n",
    "            masks_batch.append(mask)\n",
    "\n",
    "        return np.array(images_batch), np.array(masks_batch)\n",
    "\n",
    "    def on_epoch_end(self):\n",
    "        pass\n",
    "\n",
    "    def __len__(self):\n",
    "        return int(np.ceil(len(self.images_path)/float(self.batch_size)))"
   ]
  },
  {
   "cell_type": "code",
   "execution_count": 4,
   "metadata": {
    "execution": {
     "iopub.execute_input": "2023-05-16T10:40:06.270554Z",
     "iopub.status.busy": "2023-05-16T10:40:06.270186Z",
     "iopub.status.idle": "2023-05-16T10:40:06.290992Z",
     "shell.execute_reply": "2023-05-16T10:40:06.290108Z",
     "shell.execute_reply.started": "2023-05-16T10:40:06.270524Z"
    }
   },
   "outputs": [],
   "source": [
    "def squeeze_excite_block(inputs, ratio=8):\n",
    "    init = inputs\n",
    "    channel_axis = -1\n",
    "    filters = init.shape[channel_axis]\n",
    "    se_shape = (1, 1, filters)\n",
    "\n",
    "    se = layers.GlobalAveragePooling2D()(init)\n",
    "    se = layers.Reshape(se_shape)(se)\n",
    "    se = layers.Dense(filters // ratio, activation='relu', kernel_initializer='he_normal', use_bias=False)(se)\n",
    "    se = layers.Dense(filters, activation='sigmoid', kernel_initializer='he_normal', use_bias=False)(se)\n",
    "\n",
    "    x = layers.Multiply()([init, se])\n",
    "    return x\n",
    "\n",
    "\n",
    "\n",
    "def stem_block(x, n_filter, strides):\n",
    "    x_init = x\n",
    "\n",
    "    x = layers.Conv2D(n_filter, (3, 3), padding=\"same\", strides=strides)(x)\n",
    "    x = layers.BatchNormalization()(x)\n",
    "    x = layers.Activation(\"relu\")(x)\n",
    "    x = layers.Conv2D(n_filter, (3, 3), padding=\"same\")(x)\n",
    "\n",
    "    # Skip Connection\n",
    "    s  = layers.Conv2D(n_filter, (1, 1), padding=\"same\", strides=strides)(x_init)\n",
    "    s = layers.BatchNormalization()(s)\n",
    "\n",
    "    x = layers.Add()([x, s])\n",
    "    x = squeeze_excite_block(x)\n",
    "    return x\n",
    "\n",
    "\n",
    "\n",
    "def resnet_block(x, n_filter, strides=1):\n",
    "    x_init = x\n",
    "\n",
    "    x = layers.BatchNormalization()(x)\n",
    "    x = layers.Activation(\"relu\")(x)\n",
    "    x = layers.Conv2D(n_filter, (3, 3), padding=\"same\", strides=strides)(x)\n",
    "\n",
    "    x = layers.BatchNormalization()(x)\n",
    "    x = layers.Activation(\"relu\")(x)\n",
    "    x = layers.Conv2D(n_filter, (3, 3), padding=\"same\", strides=1)(x)\n",
    "\n",
    "    # Skip Connection\n",
    "    s  = layers.Conv2D(n_filter, (1, 1), padding=\"same\", strides=strides)(x_init)\n",
    "    s = layers.BatchNormalization()(s)\n",
    "\n",
    "    x = layers.Add()([x, s])\n",
    "    x = squeeze_excite_block(x)\n",
    "    return x\n",
    "\n",
    "\n",
    "\n",
    "def aspp_block(x, num_filters, rate_scale=1):\n",
    "    x1 = layers.Conv2D(num_filters, (3, 3), dilation_rate=(6 * rate_scale, 6 * rate_scale), padding=\"same\")(x)\n",
    "    x1 = layers.BatchNormalization()(x1)\n",
    "\n",
    "    x2 = layers.Conv2D(num_filters, (3, 3), dilation_rate=(12 * rate_scale, 12 * rate_scale), padding=\"same\")(x)\n",
    "    x2 = layers.BatchNormalization()(x2)\n",
    "\n",
    "    x3 = layers.Conv2D(num_filters, (3, 3), dilation_rate=(18 * rate_scale, 18 * rate_scale), padding=\"same\")(x)\n",
    "    x3 = layers.BatchNormalization()(x3)\n",
    "\n",
    "    x4 = layers.Conv2D(num_filters, (3, 3), padding=\"same\")(x)\n",
    "    x4 = layers.BatchNormalization()(x4)\n",
    "\n",
    "    y = layers.Add()([x1, x2, x3, x4])\n",
    "    y = layers.Conv2D(num_filters, (1, 1), padding=\"same\")(y)\n",
    "    return y\n",
    "\n",
    "\n",
    "\n",
    "def attetion_block(s, x):\n",
    "    \"\"\"\n",
    "        s: skip connection from the parallel encoder block\n",
    "        x: output from ASPP/prev. decoder block\n",
    "    \"\"\"\n",
    "    filters = x.shape[-1]\n",
    "\n",
    "    s_conv = layers.BatchNormalization()(s)\n",
    "    s_conv = layers.Activation(\"relu\")(s_conv)\n",
    "    s_conv = layers.Conv2D(filters, (3, 3), padding=\"same\")(s_conv)\n",
    "\n",
    "    s_pool = layers.MaxPooling2D(pool_size=(2, 2), strides=(2, 2))(s_conv)\n",
    "\n",
    "    x_conv = layers.BatchNormalization()(x)\n",
    "    x_conv = layers.Activation(\"relu\")(x_conv)\n",
    "    x_conv = layers.Conv2D(filters, (3, 3), padding=\"same\")(x_conv)\n",
    "\n",
    "    xs_sum = layers.Add()([s_pool, x_conv])\n",
    "\n",
    "    xs_conv = layers.BatchNormalization()(xs_sum)\n",
    "    xs_conv = layers.Activation(\"relu\")(xs_conv)\n",
    "    xs_conv = layers.Conv2D(filters, (3, 3), padding=\"same\")(xs_conv)\n",
    "\n",
    "    xs_mul = layers.Multiply()([xs_conv, x])\n",
    "    return xs_mul"
   ]
  },
  {
   "cell_type": "code",
   "execution_count": 5,
   "metadata": {
    "execution": {
     "iopub.execute_input": "2023-05-16T10:40:13.795698Z",
     "iopub.status.busy": "2023-05-16T10:40:13.794992Z",
     "iopub.status.idle": "2023-05-16T10:40:13.807707Z",
     "shell.execute_reply": "2023-05-16T10:40:13.806596Z",
     "shell.execute_reply.started": "2023-05-16T10:40:13.795662Z"
    }
   },
   "outputs": [],
   "source": [
    "def build_model(Input_Shape=(256, 256, 3)):\n",
    "        \n",
    "        n_filters = [16, 32, 64, 128, 256, 512]\n",
    "        inputs = layers.Input(Input_Shape)\n",
    "\n",
    "        c0 = inputs\n",
    "        c1 = stem_block(c0, n_filters[0], strides=1)\n",
    "\n",
    "        # Encoder Blocks\n",
    "        c2 = resnet_block(c1, n_filters[1], strides=2)\n",
    "        c3 = resnet_block(c2, n_filters[2], strides=2)\n",
    "        c4 = resnet_block(c3, n_filters[3], strides=2)\n",
    "        c5 = resnet_block(c4, n_filters[4], strides=2)\n",
    "\n",
    "        # Atrous Spatial Pyramid Pooling Block\n",
    "        b1 = aspp_block(c5, n_filters[5])\n",
    "\n",
    "        # Decoder Blocks\n",
    "        d0 = attetion_block(c4, b1)\n",
    "        d0 = layers.UpSampling2D((2, 2))(d0)\n",
    "        d0 = layers.Concatenate()([d0, c4])\n",
    "        d0 = resnet_block(d0, n_filters[4])\n",
    "\n",
    "        d1 = attetion_block(c3, d0)\n",
    "        d1 = layers.UpSampling2D((2, 2))(d1)\n",
    "        d1 = layers.Concatenate()([d1, c3])\n",
    "        d1 = resnet_block(d1, n_filters[3])\n",
    "\n",
    "        d2 = attetion_block(c2, d1)\n",
    "        d2 = layers.UpSampling2D((2, 2))(d2)\n",
    "        d2 = layers.Concatenate()([d2, c2])\n",
    "        d2 = resnet_block(d2, n_filters[2])\n",
    "\n",
    "        d3 = attetion_block(c1, d2)\n",
    "        d3 = layers.UpSampling2D((2, 2))(d3)\n",
    "        d3 = layers.Concatenate()([d3, c1])\n",
    "        d3 = resnet_block(d3, n_filters[1])\n",
    "\n",
    "        outputs = aspp_block(d3, n_filters[0])\n",
    "        outputs = layers.Conv2D(1, (1, 1), padding=\"same\")(outputs)\n",
    "        outputs = layers.Activation(\"sigmoid\")(outputs)\n",
    "\n",
    "        model = Model(inputs, outputs)\n",
    "        \n",
    "        return model"
   ]
  },
  {
   "cell_type": "code",
   "execution_count": 6,
   "metadata": {
    "execution": {
     "iopub.execute_input": "2023-05-16T10:40:32.583399Z",
     "iopub.status.busy": "2023-05-16T10:40:32.583001Z",
     "iopub.status.idle": "2023-05-16T10:40:32.590648Z",
     "shell.execute_reply": "2023-05-16T10:40:32.589468Z",
     "shell.execute_reply.started": "2023-05-16T10:40:32.583368Z"
    }
   },
   "outputs": [],
   "source": [
    "smooth = 1.0\n",
    "\n",
    "def dice_coef(y_true, y_pred):\n",
    "    y_true_f = tf.keras.layers.Flatten()(y_true)\n",
    "    y_pred_f = tf.keras.layers.Flatten()(y_pred)\n",
    "    intersection = tf.reduce_sum(y_true_f * y_pred_f)\n",
    "    return (2.0 * intersection + smooth) / (tf.reduce_sum(y_true_f) + tf.reduce_sum(y_pred_f) + smooth)\n",
    "\n",
    "\n",
    "def dice_loss(y_true, y_pred):\n",
    "    return 1.0 - dice_coef(y_true, y_pred)"
   ]
  },
  {
   "cell_type": "code",
   "execution_count": 9,
   "metadata": {
    "execution": {
     "iopub.execute_input": "2023-05-16T10:46:43.243876Z",
     "iopub.status.busy": "2023-05-16T10:46:43.243457Z",
     "iopub.status.idle": "2023-05-16T10:46:44.365979Z",
     "shell.execute_reply": "2023-05-16T10:46:44.365037Z",
     "shell.execute_reply.started": "2023-05-16T10:46:43.243845Z"
    }
   },
   "outputs": [],
   "source": [
    "\n",
    "train_path = \"/kaggle/input/aug-kvasir-seg/New_Kvasir-SEG/Kvasir-SEG/train\"\n",
    "valid_path = \"/kaggle/input/aug-kvasir-seg/New_Kvasir-SEG/Kvasir-SEG/valid\"\n",
    "\n",
    "# Training\n",
    "train_image_paths = glob(os.path.join(train_path, \"images\", \"*.*\"))\n",
    "train_mask_paths = glob(os.path.join(train_path, \"masks\", \"*.*\"))\n",
    "train_image_paths.sort()\n",
    "train_mask_paths.sort()\n",
    "\n",
    "train_image_paths = train_image_paths[:8000]\n",
    "train_mask_paths = train_mask_paths[:8000]\n",
    "\n",
    "# Validation\n",
    "valid_image_paths = glob(os.path.join(valid_path, \"images\", \"*.*\"))\n",
    "valid_mask_paths = glob(os.path.join(valid_path, \"masks\", \"*.*\"))\n",
    "valid_image_paths.sort()\n",
    "valid_mask_paths.sort()\n",
    "\n",
    "\n",
    "image_size = 256\n",
    "batch_size = 16\n",
    "lr = 1e-4\n",
    "epochs = 60\n",
    "\n",
    "train_steps = len(train_image_paths)//batch_size\n",
    "valid_steps = len(valid_image_paths)//batch_size\n"
   ]
  },
  {
   "cell_type": "code",
   "execution_count": 10,
   "metadata": {
    "execution": {
     "iopub.execute_input": "2023-05-16T10:46:58.158756Z",
     "iopub.status.busy": "2023-05-16T10:46:58.158398Z",
     "iopub.status.idle": "2023-05-16T10:46:58.163897Z",
     "shell.execute_reply": "2023-05-16T10:46:58.162747Z",
     "shell.execute_reply.started": "2023-05-16T10:46:58.158728Z"
    }
   },
   "outputs": [],
   "source": [
    "train_gen = DataGen(image_size, train_image_paths, train_mask_paths, batch_size=batch_size)\n",
    "valid_gen = DataGen(image_size, valid_image_paths, valid_mask_paths, batch_size=batch_size)"
   ]
  },
  {
   "cell_type": "code",
   "execution_count": 12,
   "metadata": {
    "execution": {
     "iopub.execute_input": "2023-05-16T10:47:11.239084Z",
     "iopub.status.busy": "2023-05-16T10:47:11.238355Z",
     "iopub.status.idle": "2023-05-16T10:47:15.884938Z",
     "shell.execute_reply": "2023-05-16T10:47:15.884113Z",
     "shell.execute_reply.started": "2023-05-16T10:47:11.239023Z"
    }
   },
   "outputs": [
    {
     "name": "stdout",
     "output_type": "stream",
     "text": [
      "Model: \"model\"\n",
      "__________________________________________________________________________________________________\n",
      " Layer (type)                   Output Shape         Param #     Connected to                     \n",
      "==================================================================================================\n",
      " input_1 (InputLayer)           [(None, 256, 256, 3  0           []                               \n",
      "                                )]                                                                \n",
      "                                                                                                  \n",
      " conv2d (Conv2D)                (None, 256, 256, 16  448         ['input_1[0][0]']                \n",
      "                                )                                                                 \n",
      "                                                                                                  \n",
      " batch_normalization (BatchNorm  (None, 256, 256, 16  64         ['conv2d[0][0]']                 \n",
      " alization)                     )                                                                 \n",
      "                                                                                                  \n",
      " activation (Activation)        (None, 256, 256, 16  0           ['batch_normalization[0][0]']    \n",
      "                                )                                                                 \n",
      "                                                                                                  \n",
      " conv2d_2 (Conv2D)              (None, 256, 256, 16  64          ['input_1[0][0]']                \n",
      "                                )                                                                 \n",
      "                                                                                                  \n",
      " conv2d_1 (Conv2D)              (None, 256, 256, 16  2320        ['activation[0][0]']             \n",
      "                                )                                                                 \n",
      "                                                                                                  \n",
      " batch_normalization_1 (BatchNo  (None, 256, 256, 16  64         ['conv2d_2[0][0]']               \n",
      " rmalization)                   )                                                                 \n",
      "                                                                                                  \n",
      " add (Add)                      (None, 256, 256, 16  0           ['conv2d_1[0][0]',               \n",
      "                                )                                 'batch_normalization_1[0][0]']  \n",
      "                                                                                                  \n",
      " global_average_pooling2d (Glob  (None, 16)          0           ['add[0][0]']                    \n",
      " alAveragePooling2D)                                                                              \n",
      "                                                                                                  \n",
      " reshape (Reshape)              (None, 1, 1, 16)     0           ['global_average_pooling2d[0][0]'\n",
      "                                                                 ]                                \n",
      "                                                                                                  \n",
      " dense (Dense)                  (None, 1, 1, 2)      32          ['reshape[0][0]']                \n",
      "                                                                                                  \n",
      " dense_1 (Dense)                (None, 1, 1, 16)     32          ['dense[0][0]']                  \n",
      "                                                                                                  \n",
      " multiply (Multiply)            (None, 256, 256, 16  0           ['add[0][0]',                    \n",
      "                                )                                 'dense_1[0][0]']                \n",
      "                                                                                                  \n",
      " batch_normalization_2 (BatchNo  (None, 256, 256, 16  64         ['multiply[0][0]']               \n",
      " rmalization)                   )                                                                 \n",
      "                                                                                                  \n",
      " activation_1 (Activation)      (None, 256, 256, 16  0           ['batch_normalization_2[0][0]']  \n",
      "                                )                                                                 \n",
      "                                                                                                  \n",
      " conv2d_3 (Conv2D)              (None, 128, 128, 32  4640        ['activation_1[0][0]']           \n",
      "                                )                                                                 \n",
      "                                                                                                  \n",
      " batch_normalization_3 (BatchNo  (None, 128, 128, 32  128        ['conv2d_3[0][0]']               \n",
      " rmalization)                   )                                                                 \n",
      "                                                                                                  \n",
      " activation_2 (Activation)      (None, 128, 128, 32  0           ['batch_normalization_3[0][0]']  \n",
      "                                )                                                                 \n",
      "                                                                                                  \n",
      " conv2d_5 (Conv2D)              (None, 128, 128, 32  544         ['multiply[0][0]']               \n",
      "                                )                                                                 \n",
      "                                                                                                  \n",
      " conv2d_4 (Conv2D)              (None, 128, 128, 32  9248        ['activation_2[0][0]']           \n",
      "                                )                                                                 \n",
      "                                                                                                  \n",
      " batch_normalization_4 (BatchNo  (None, 128, 128, 32  128        ['conv2d_5[0][0]']               \n",
      " rmalization)                   )                                                                 \n",
      "                                                                                                  \n",
      " add_1 (Add)                    (None, 128, 128, 32  0           ['conv2d_4[0][0]',               \n",
      "                                )                                 'batch_normalization_4[0][0]']  \n",
      "                                                                                                  \n",
      " global_average_pooling2d_1 (Gl  (None, 32)          0           ['add_1[0][0]']                  \n",
      " obalAveragePooling2D)                                                                            \n",
      "                                                                                                  \n",
      " reshape_1 (Reshape)            (None, 1, 1, 32)     0           ['global_average_pooling2d_1[0][0\n",
      "                                                                 ]']                              \n",
      "                                                                                                  \n",
      " dense_2 (Dense)                (None, 1, 1, 4)      128         ['reshape_1[0][0]']              \n",
      "                                                                                                  \n",
      " dense_3 (Dense)                (None, 1, 1, 32)     128         ['dense_2[0][0]']                \n",
      "                                                                                                  \n",
      " multiply_1 (Multiply)          (None, 128, 128, 32  0           ['add_1[0][0]',                  \n",
      "                                )                                 'dense_3[0][0]']                \n",
      "                                                                                                  \n",
      " batch_normalization_5 (BatchNo  (None, 128, 128, 32  128        ['multiply_1[0][0]']             \n",
      " rmalization)                   )                                                                 \n",
      "                                                                                                  \n",
      " activation_3 (Activation)      (None, 128, 128, 32  0           ['batch_normalization_5[0][0]']  \n",
      "                                )                                                                 \n",
      "                                                                                                  \n",
      " conv2d_6 (Conv2D)              (None, 64, 64, 64)   18496       ['activation_3[0][0]']           \n",
      "                                                                                                  \n",
      " batch_normalization_6 (BatchNo  (None, 64, 64, 64)  256         ['conv2d_6[0][0]']               \n",
      " rmalization)                                                                                     \n",
      "                                                                                                  \n",
      " activation_4 (Activation)      (None, 64, 64, 64)   0           ['batch_normalization_6[0][0]']  \n",
      "                                                                                                  \n",
      " conv2d_8 (Conv2D)              (None, 64, 64, 64)   2112        ['multiply_1[0][0]']             \n",
      "                                                                                                  \n",
      " conv2d_7 (Conv2D)              (None, 64, 64, 64)   36928       ['activation_4[0][0]']           \n",
      "                                                                                                  \n",
      " batch_normalization_7 (BatchNo  (None, 64, 64, 64)  256         ['conv2d_8[0][0]']               \n",
      " rmalization)                                                                                     \n",
      "                                                                                                  \n",
      " add_2 (Add)                    (None, 64, 64, 64)   0           ['conv2d_7[0][0]',               \n",
      "                                                                  'batch_normalization_7[0][0]']  \n",
      "                                                                                                  \n",
      " global_average_pooling2d_2 (Gl  (None, 64)          0           ['add_2[0][0]']                  \n",
      " obalAveragePooling2D)                                                                            \n",
      "                                                                                                  \n",
      " reshape_2 (Reshape)            (None, 1, 1, 64)     0           ['global_average_pooling2d_2[0][0\n",
      "                                                                 ]']                              \n",
      "                                                                                                  \n",
      " dense_4 (Dense)                (None, 1, 1, 8)      512         ['reshape_2[0][0]']              \n",
      "                                                                                                  \n",
      " dense_5 (Dense)                (None, 1, 1, 64)     512         ['dense_4[0][0]']                \n",
      "                                                                                                  \n",
      " multiply_2 (Multiply)          (None, 64, 64, 64)   0           ['add_2[0][0]',                  \n",
      "                                                                  'dense_5[0][0]']                \n",
      "                                                                                                  \n",
      " batch_normalization_8 (BatchNo  (None, 64, 64, 64)  256         ['multiply_2[0][0]']             \n",
      " rmalization)                                                                                     \n",
      "                                                                                                  \n",
      " activation_5 (Activation)      (None, 64, 64, 64)   0           ['batch_normalization_8[0][0]']  \n",
      "                                                                                                  \n",
      " conv2d_9 (Conv2D)              (None, 32, 32, 128)  73856       ['activation_5[0][0]']           \n",
      "                                                                                                  \n",
      " batch_normalization_9 (BatchNo  (None, 32, 32, 128)  512        ['conv2d_9[0][0]']               \n",
      " rmalization)                                                                                     \n",
      "                                                                                                  \n",
      " activation_6 (Activation)      (None, 32, 32, 128)  0           ['batch_normalization_9[0][0]']  \n",
      "                                                                                                  \n",
      " conv2d_11 (Conv2D)             (None, 32, 32, 128)  8320        ['multiply_2[0][0]']             \n",
      "                                                                                                  \n",
      " conv2d_10 (Conv2D)             (None, 32, 32, 128)  147584      ['activation_6[0][0]']           \n",
      "                                                                                                  \n",
      " batch_normalization_10 (BatchN  (None, 32, 32, 128)  512        ['conv2d_11[0][0]']              \n",
      " ormalization)                                                                                    \n",
      "                                                                                                  \n",
      " add_3 (Add)                    (None, 32, 32, 128)  0           ['conv2d_10[0][0]',              \n",
      "                                                                  'batch_normalization_10[0][0]'] \n",
      "                                                                                                  \n",
      " global_average_pooling2d_3 (Gl  (None, 128)         0           ['add_3[0][0]']                  \n",
      " obalAveragePooling2D)                                                                            \n",
      "                                                                                                  \n",
      " reshape_3 (Reshape)            (None, 1, 1, 128)    0           ['global_average_pooling2d_3[0][0\n",
      "                                                                 ]']                              \n",
      "                                                                                                  \n",
      " dense_6 (Dense)                (None, 1, 1, 16)     2048        ['reshape_3[0][0]']              \n",
      "                                                                                                  \n",
      " dense_7 (Dense)                (None, 1, 1, 128)    2048        ['dense_6[0][0]']                \n",
      "                                                                                                  \n",
      " multiply_3 (Multiply)          (None, 32, 32, 128)  0           ['add_3[0][0]',                  \n",
      "                                                                  'dense_7[0][0]']                \n",
      "                                                                                                  \n",
      " batch_normalization_11 (BatchN  (None, 32, 32, 128)  512        ['multiply_3[0][0]']             \n",
      " ormalization)                                                                                    \n",
      "                                                                                                  \n",
      " activation_7 (Activation)      (None, 32, 32, 128)  0           ['batch_normalization_11[0][0]'] \n",
      "                                                                                                  \n",
      " conv2d_12 (Conv2D)             (None, 16, 16, 256)  295168      ['activation_7[0][0]']           \n",
      "                                                                                                  \n",
      " batch_normalization_12 (BatchN  (None, 16, 16, 256)  1024       ['conv2d_12[0][0]']              \n",
      " ormalization)                                                                                    \n",
      "                                                                                                  \n",
      " activation_8 (Activation)      (None, 16, 16, 256)  0           ['batch_normalization_12[0][0]'] \n",
      "                                                                                                  \n",
      " conv2d_14 (Conv2D)             (None, 16, 16, 256)  33024       ['multiply_3[0][0]']             \n",
      "                                                                                                  \n",
      " conv2d_13 (Conv2D)             (None, 16, 16, 256)  590080      ['activation_8[0][0]']           \n",
      "                                                                                                  \n",
      " batch_normalization_13 (BatchN  (None, 16, 16, 256)  1024       ['conv2d_14[0][0]']              \n",
      " ormalization)                                                                                    \n",
      "                                                                                                  \n",
      " add_4 (Add)                    (None, 16, 16, 256)  0           ['conv2d_13[0][0]',              \n",
      "                                                                  'batch_normalization_13[0][0]'] \n",
      "                                                                                                  \n",
      " global_average_pooling2d_4 (Gl  (None, 256)         0           ['add_4[0][0]']                  \n",
      " obalAveragePooling2D)                                                                            \n",
      "                                                                                                  \n",
      " reshape_4 (Reshape)            (None, 1, 1, 256)    0           ['global_average_pooling2d_4[0][0\n",
      "                                                                 ]']                              \n",
      "                                                                                                  \n",
      " dense_8 (Dense)                (None, 1, 1, 32)     8192        ['reshape_4[0][0]']              \n",
      "                                                                                                  \n",
      " dense_9 (Dense)                (None, 1, 1, 256)    8192        ['dense_8[0][0]']                \n",
      "                                                                                                  \n",
      " multiply_4 (Multiply)          (None, 16, 16, 256)  0           ['add_4[0][0]',                  \n",
      "                                                                  'dense_9[0][0]']                \n",
      "                                                                                                  \n",
      " conv2d_15 (Conv2D)             (None, 16, 16, 512)  1180160     ['multiply_4[0][0]']             \n",
      "                                                                                                  \n",
      " conv2d_16 (Conv2D)             (None, 16, 16, 512)  1180160     ['multiply_4[0][0]']             \n",
      "                                                                                                  \n",
      " conv2d_17 (Conv2D)             (None, 16, 16, 512)  1180160     ['multiply_4[0][0]']             \n",
      "                                                                                                  \n",
      " conv2d_18 (Conv2D)             (None, 16, 16, 512)  1180160     ['multiply_4[0][0]']             \n",
      "                                                                                                  \n",
      " batch_normalization_14 (BatchN  (None, 16, 16, 512)  2048       ['conv2d_15[0][0]']              \n",
      " ormalization)                                                                                    \n",
      "                                                                                                  \n",
      " batch_normalization_15 (BatchN  (None, 16, 16, 512)  2048       ['conv2d_16[0][0]']              \n",
      " ormalization)                                                                                    \n",
      "                                                                                                  \n",
      " batch_normalization_16 (BatchN  (None, 16, 16, 512)  2048       ['conv2d_17[0][0]']              \n",
      " ormalization)                                                                                    \n",
      "                                                                                                  \n",
      " batch_normalization_17 (BatchN  (None, 16, 16, 512)  2048       ['conv2d_18[0][0]']              \n",
      " ormalization)                                                                                    \n",
      "                                                                                                  \n",
      " add_5 (Add)                    (None, 16, 16, 512)  0           ['batch_normalization_14[0][0]', \n",
      "                                                                  'batch_normalization_15[0][0]', \n",
      "                                                                  'batch_normalization_16[0][0]', \n",
      "                                                                  'batch_normalization_17[0][0]'] \n",
      "                                                                                                  \n",
      " batch_normalization_18 (BatchN  (None, 32, 32, 128)  512        ['multiply_3[0][0]']             \n",
      " ormalization)                                                                                    \n",
      "                                                                                                  \n",
      " conv2d_19 (Conv2D)             (None, 16, 16, 512)  262656      ['add_5[0][0]']                  \n",
      "                                                                                                  \n",
      " activation_9 (Activation)      (None, 32, 32, 128)  0           ['batch_normalization_18[0][0]'] \n",
      "                                                                                                  \n",
      " batch_normalization_19 (BatchN  (None, 16, 16, 512)  2048       ['conv2d_19[0][0]']              \n",
      " ormalization)                                                                                    \n",
      "                                                                                                  \n",
      " conv2d_20 (Conv2D)             (None, 32, 32, 512)  590336      ['activation_9[0][0]']           \n",
      "                                                                                                  \n",
      " activation_10 (Activation)     (None, 16, 16, 512)  0           ['batch_normalization_19[0][0]'] \n",
      "                                                                                                  \n",
      " max_pooling2d (MaxPooling2D)   (None, 16, 16, 512)  0           ['conv2d_20[0][0]']              \n",
      "                                                                                                  \n",
      " conv2d_21 (Conv2D)             (None, 16, 16, 512)  2359808     ['activation_10[0][0]']          \n",
      "                                                                                                  \n",
      " add_6 (Add)                    (None, 16, 16, 512)  0           ['max_pooling2d[0][0]',          \n",
      "                                                                  'conv2d_21[0][0]']              \n",
      "                                                                                                  \n",
      " batch_normalization_20 (BatchN  (None, 16, 16, 512)  2048       ['add_6[0][0]']                  \n",
      " ormalization)                                                                                    \n",
      "                                                                                                  \n",
      " activation_11 (Activation)     (None, 16, 16, 512)  0           ['batch_normalization_20[0][0]'] \n",
      "                                                                                                  \n",
      " conv2d_22 (Conv2D)             (None, 16, 16, 512)  2359808     ['activation_11[0][0]']          \n",
      "                                                                                                  \n",
      " multiply_5 (Multiply)          (None, 16, 16, 512)  0           ['conv2d_22[0][0]',              \n",
      "                                                                  'conv2d_19[0][0]']              \n",
      "                                                                                                  \n",
      " up_sampling2d (UpSampling2D)   (None, 32, 32, 512)  0           ['multiply_5[0][0]']             \n",
      "                                                                                                  \n",
      " concatenate (Concatenate)      (None, 32, 32, 640)  0           ['up_sampling2d[0][0]',          \n",
      "                                                                  'multiply_3[0][0]']             \n",
      "                                                                                                  \n",
      " batch_normalization_21 (BatchN  (None, 32, 32, 640)  2560       ['concatenate[0][0]']            \n",
      " ormalization)                                                                                    \n",
      "                                                                                                  \n",
      " activation_12 (Activation)     (None, 32, 32, 640)  0           ['batch_normalization_21[0][0]'] \n",
      "                                                                                                  \n",
      " conv2d_23 (Conv2D)             (None, 32, 32, 256)  1474816     ['activation_12[0][0]']          \n",
      "                                                                                                  \n",
      " batch_normalization_22 (BatchN  (None, 32, 32, 256)  1024       ['conv2d_23[0][0]']              \n",
      " ormalization)                                                                                    \n",
      "                                                                                                  \n",
      " activation_13 (Activation)     (None, 32, 32, 256)  0           ['batch_normalization_22[0][0]'] \n",
      "                                                                                                  \n",
      " conv2d_25 (Conv2D)             (None, 32, 32, 256)  164096      ['concatenate[0][0]']            \n",
      "                                                                                                  \n",
      " conv2d_24 (Conv2D)             (None, 32, 32, 256)  590080      ['activation_13[0][0]']          \n",
      "                                                                                                  \n",
      " batch_normalization_23 (BatchN  (None, 32, 32, 256)  1024       ['conv2d_25[0][0]']              \n",
      " ormalization)                                                                                    \n",
      "                                                                                                  \n",
      " add_7 (Add)                    (None, 32, 32, 256)  0           ['conv2d_24[0][0]',              \n",
      "                                                                  'batch_normalization_23[0][0]'] \n",
      "                                                                                                  \n",
      " global_average_pooling2d_5 (Gl  (None, 256)         0           ['add_7[0][0]']                  \n",
      " obalAveragePooling2D)                                                                            \n",
      "                                                                                                  \n",
      " reshape_5 (Reshape)            (None, 1, 1, 256)    0           ['global_average_pooling2d_5[0][0\n",
      "                                                                 ]']                              \n",
      "                                                                                                  \n",
      " dense_10 (Dense)               (None, 1, 1, 32)     8192        ['reshape_5[0][0]']              \n",
      "                                                                                                  \n",
      " dense_11 (Dense)               (None, 1, 1, 256)    8192        ['dense_10[0][0]']               \n",
      "                                                                                                  \n",
      " batch_normalization_24 (BatchN  (None, 64, 64, 64)  256         ['multiply_2[0][0]']             \n",
      " ormalization)                                                                                    \n",
      "                                                                                                  \n",
      " multiply_6 (Multiply)          (None, 32, 32, 256)  0           ['add_7[0][0]',                  \n",
      "                                                                  'dense_11[0][0]']               \n",
      "                                                                                                  \n",
      " activation_14 (Activation)     (None, 64, 64, 64)   0           ['batch_normalization_24[0][0]'] \n",
      "                                                                                                  \n",
      " batch_normalization_25 (BatchN  (None, 32, 32, 256)  1024       ['multiply_6[0][0]']             \n",
      " ormalization)                                                                                    \n",
      "                                                                                                  \n",
      " conv2d_26 (Conv2D)             (None, 64, 64, 256)  147712      ['activation_14[0][0]']          \n",
      "                                                                                                  \n",
      " activation_15 (Activation)     (None, 32, 32, 256)  0           ['batch_normalization_25[0][0]'] \n",
      "                                                                                                  \n",
      " max_pooling2d_1 (MaxPooling2D)  (None, 32, 32, 256)  0          ['conv2d_26[0][0]']              \n",
      "                                                                                                  \n",
      " conv2d_27 (Conv2D)             (None, 32, 32, 256)  590080      ['activation_15[0][0]']          \n",
      "                                                                                                  \n",
      " add_8 (Add)                    (None, 32, 32, 256)  0           ['max_pooling2d_1[0][0]',        \n",
      "                                                                  'conv2d_27[0][0]']              \n",
      "                                                                                                  \n",
      " batch_normalization_26 (BatchN  (None, 32, 32, 256)  1024       ['add_8[0][0]']                  \n",
      " ormalization)                                                                                    \n",
      "                                                                                                  \n",
      " activation_16 (Activation)     (None, 32, 32, 256)  0           ['batch_normalization_26[0][0]'] \n",
      "                                                                                                  \n",
      " conv2d_28 (Conv2D)             (None, 32, 32, 256)  590080      ['activation_16[0][0]']          \n",
      "                                                                                                  \n",
      " multiply_7 (Multiply)          (None, 32, 32, 256)  0           ['conv2d_28[0][0]',              \n",
      "                                                                  'multiply_6[0][0]']             \n",
      "                                                                                                  \n",
      " up_sampling2d_1 (UpSampling2D)  (None, 64, 64, 256)  0          ['multiply_7[0][0]']             \n",
      "                                                                                                  \n",
      " concatenate_1 (Concatenate)    (None, 64, 64, 320)  0           ['up_sampling2d_1[0][0]',        \n",
      "                                                                  'multiply_2[0][0]']             \n",
      "                                                                                                  \n",
      " batch_normalization_27 (BatchN  (None, 64, 64, 320)  1280       ['concatenate_1[0][0]']          \n",
      " ormalization)                                                                                    \n",
      "                                                                                                  \n",
      " activation_17 (Activation)     (None, 64, 64, 320)  0           ['batch_normalization_27[0][0]'] \n",
      "                                                                                                  \n",
      " conv2d_29 (Conv2D)             (None, 64, 64, 128)  368768      ['activation_17[0][0]']          \n",
      "                                                                                                  \n",
      " batch_normalization_28 (BatchN  (None, 64, 64, 128)  512        ['conv2d_29[0][0]']              \n",
      " ormalization)                                                                                    \n",
      "                                                                                                  \n",
      " activation_18 (Activation)     (None, 64, 64, 128)  0           ['batch_normalization_28[0][0]'] \n",
      "                                                                                                  \n",
      " conv2d_31 (Conv2D)             (None, 64, 64, 128)  41088       ['concatenate_1[0][0]']          \n",
      "                                                                                                  \n",
      " conv2d_30 (Conv2D)             (None, 64, 64, 128)  147584      ['activation_18[0][0]']          \n",
      "                                                                                                  \n",
      " batch_normalization_29 (BatchN  (None, 64, 64, 128)  512        ['conv2d_31[0][0]']              \n",
      " ormalization)                                                                                    \n",
      "                                                                                                  \n",
      " add_9 (Add)                    (None, 64, 64, 128)  0           ['conv2d_30[0][0]',              \n",
      "                                                                  'batch_normalization_29[0][0]'] \n",
      "                                                                                                  \n",
      " global_average_pooling2d_6 (Gl  (None, 128)         0           ['add_9[0][0]']                  \n",
      " obalAveragePooling2D)                                                                            \n",
      "                                                                                                  \n",
      " reshape_6 (Reshape)            (None, 1, 1, 128)    0           ['global_average_pooling2d_6[0][0\n",
      "                                                                 ]']                              \n",
      "                                                                                                  \n",
      " dense_12 (Dense)               (None, 1, 1, 16)     2048        ['reshape_6[0][0]']              \n",
      "                                                                                                  \n",
      " dense_13 (Dense)               (None, 1, 1, 128)    2048        ['dense_12[0][0]']               \n",
      "                                                                                                  \n",
      " batch_normalization_30 (BatchN  (None, 128, 128, 32  128        ['multiply_1[0][0]']             \n",
      " ormalization)                  )                                                                 \n",
      "                                                                                                  \n",
      " multiply_8 (Multiply)          (None, 64, 64, 128)  0           ['add_9[0][0]',                  \n",
      "                                                                  'dense_13[0][0]']               \n",
      "                                                                                                  \n",
      " activation_19 (Activation)     (None, 128, 128, 32  0           ['batch_normalization_30[0][0]'] \n",
      "                                )                                                                 \n",
      "                                                                                                  \n",
      " batch_normalization_31 (BatchN  (None, 64, 64, 128)  512        ['multiply_8[0][0]']             \n",
      " ormalization)                                                                                    \n",
      "                                                                                                  \n",
      " conv2d_32 (Conv2D)             (None, 128, 128, 12  36992       ['activation_19[0][0]']          \n",
      "                                8)                                                                \n",
      "                                                                                                  \n",
      " activation_20 (Activation)     (None, 64, 64, 128)  0           ['batch_normalization_31[0][0]'] \n",
      "                                                                                                  \n",
      " max_pooling2d_2 (MaxPooling2D)  (None, 64, 64, 128)  0          ['conv2d_32[0][0]']              \n",
      "                                                                                                  \n",
      " conv2d_33 (Conv2D)             (None, 64, 64, 128)  147584      ['activation_20[0][0]']          \n",
      "                                                                                                  \n",
      " add_10 (Add)                   (None, 64, 64, 128)  0           ['max_pooling2d_2[0][0]',        \n",
      "                                                                  'conv2d_33[0][0]']              \n",
      "                                                                                                  \n",
      " batch_normalization_32 (BatchN  (None, 64, 64, 128)  512        ['add_10[0][0]']                 \n",
      " ormalization)                                                                                    \n",
      "                                                                                                  \n",
      " activation_21 (Activation)     (None, 64, 64, 128)  0           ['batch_normalization_32[0][0]'] \n",
      "                                                                                                  \n",
      " conv2d_34 (Conv2D)             (None, 64, 64, 128)  147584      ['activation_21[0][0]']          \n",
      "                                                                                                  \n",
      " multiply_9 (Multiply)          (None, 64, 64, 128)  0           ['conv2d_34[0][0]',              \n",
      "                                                                  'multiply_8[0][0]']             \n",
      "                                                                                                  \n",
      " up_sampling2d_2 (UpSampling2D)  (None, 128, 128, 12  0          ['multiply_9[0][0]']             \n",
      "                                8)                                                                \n",
      "                                                                                                  \n",
      " concatenate_2 (Concatenate)    (None, 128, 128, 16  0           ['up_sampling2d_2[0][0]',        \n",
      "                                0)                                'multiply_1[0][0]']             \n",
      "                                                                                                  \n",
      " batch_normalization_33 (BatchN  (None, 128, 128, 16  640        ['concatenate_2[0][0]']          \n",
      " ormalization)                  0)                                                                \n",
      "                                                                                                  \n",
      " activation_22 (Activation)     (None, 128, 128, 16  0           ['batch_normalization_33[0][0]'] \n",
      "                                0)                                                                \n",
      "                                                                                                  \n",
      " conv2d_35 (Conv2D)             (None, 128, 128, 64  92224       ['activation_22[0][0]']          \n",
      "                                )                                                                 \n",
      "                                                                                                  \n",
      " batch_normalization_34 (BatchN  (None, 128, 128, 64  256        ['conv2d_35[0][0]']              \n",
      " ormalization)                  )                                                                 \n",
      "                                                                                                  \n",
      " activation_23 (Activation)     (None, 128, 128, 64  0           ['batch_normalization_34[0][0]'] \n",
      "                                )                                                                 \n",
      "                                                                                                  \n",
      " conv2d_37 (Conv2D)             (None, 128, 128, 64  10304       ['concatenate_2[0][0]']          \n",
      "                                )                                                                 \n",
      "                                                                                                  \n",
      " conv2d_36 (Conv2D)             (None, 128, 128, 64  36928       ['activation_23[0][0]']          \n",
      "                                )                                                                 \n",
      "                                                                                                  \n",
      " batch_normalization_35 (BatchN  (None, 128, 128, 64  256        ['conv2d_37[0][0]']              \n",
      " ormalization)                  )                                                                 \n",
      "                                                                                                  \n",
      " add_11 (Add)                   (None, 128, 128, 64  0           ['conv2d_36[0][0]',              \n",
      "                                )                                 'batch_normalization_35[0][0]'] \n",
      "                                                                                                  \n",
      " global_average_pooling2d_7 (Gl  (None, 64)          0           ['add_11[0][0]']                 \n",
      " obalAveragePooling2D)                                                                            \n",
      "                                                                                                  \n",
      " reshape_7 (Reshape)            (None, 1, 1, 64)     0           ['global_average_pooling2d_7[0][0\n",
      "                                                                 ]']                              \n",
      "                                                                                                  \n",
      " dense_14 (Dense)               (None, 1, 1, 8)      512         ['reshape_7[0][0]']              \n",
      "                                                                                                  \n",
      " dense_15 (Dense)               (None, 1, 1, 64)     512         ['dense_14[0][0]']               \n",
      "                                                                                                  \n",
      " batch_normalization_36 (BatchN  (None, 256, 256, 16  64         ['multiply[0][0]']               \n",
      " ormalization)                  )                                                                 \n",
      "                                                                                                  \n",
      " multiply_10 (Multiply)         (None, 128, 128, 64  0           ['add_11[0][0]',                 \n",
      "                                )                                 'dense_15[0][0]']               \n",
      "                                                                                                  \n",
      " activation_24 (Activation)     (None, 256, 256, 16  0           ['batch_normalization_36[0][0]'] \n",
      "                                )                                                                 \n",
      "                                                                                                  \n",
      " batch_normalization_37 (BatchN  (None, 128, 128, 64  256        ['multiply_10[0][0]']            \n",
      " ormalization)                  )                                                                 \n",
      "                                                                                                  \n",
      " conv2d_38 (Conv2D)             (None, 256, 256, 64  9280        ['activation_24[0][0]']          \n",
      "                                )                                                                 \n",
      "                                                                                                  \n",
      " activation_25 (Activation)     (None, 128, 128, 64  0           ['batch_normalization_37[0][0]'] \n",
      "                                )                                                                 \n",
      "                                                                                                  \n",
      " max_pooling2d_3 (MaxPooling2D)  (None, 128, 128, 64  0          ['conv2d_38[0][0]']              \n",
      "                                )                                                                 \n",
      "                                                                                                  \n",
      " conv2d_39 (Conv2D)             (None, 128, 128, 64  36928       ['activation_25[0][0]']          \n",
      "                                )                                                                 \n",
      "                                                                                                  \n",
      " add_12 (Add)                   (None, 128, 128, 64  0           ['max_pooling2d_3[0][0]',        \n",
      "                                )                                 'conv2d_39[0][0]']              \n",
      "                                                                                                  \n",
      " batch_normalization_38 (BatchN  (None, 128, 128, 64  256        ['add_12[0][0]']                 \n",
      " ormalization)                  )                                                                 \n",
      "                                                                                                  \n",
      " activation_26 (Activation)     (None, 128, 128, 64  0           ['batch_normalization_38[0][0]'] \n",
      "                                )                                                                 \n",
      "                                                                                                  \n",
      " conv2d_40 (Conv2D)             (None, 128, 128, 64  36928       ['activation_26[0][0]']          \n",
      "                                )                                                                 \n",
      "                                                                                                  \n",
      " multiply_11 (Multiply)         (None, 128, 128, 64  0           ['conv2d_40[0][0]',              \n",
      "                                )                                 'multiply_10[0][0]']            \n",
      "                                                                                                  \n",
      " up_sampling2d_3 (UpSampling2D)  (None, 256, 256, 64  0          ['multiply_11[0][0]']            \n",
      "                                )                                                                 \n",
      "                                                                                                  \n",
      " concatenate_3 (Concatenate)    (None, 256, 256, 80  0           ['up_sampling2d_3[0][0]',        \n",
      "                                )                                 'multiply[0][0]']               \n",
      "                                                                                                  \n",
      " batch_normalization_39 (BatchN  (None, 256, 256, 80  320        ['concatenate_3[0][0]']          \n",
      " ormalization)                  )                                                                 \n",
      "                                                                                                  \n",
      " activation_27 (Activation)     (None, 256, 256, 80  0           ['batch_normalization_39[0][0]'] \n",
      "                                )                                                                 \n",
      "                                                                                                  \n",
      " conv2d_41 (Conv2D)             (None, 256, 256, 32  23072       ['activation_27[0][0]']          \n",
      "                                )                                                                 \n",
      "                                                                                                  \n",
      " batch_normalization_40 (BatchN  (None, 256, 256, 32  128        ['conv2d_41[0][0]']              \n",
      " ormalization)                  )                                                                 \n",
      "                                                                                                  \n",
      " activation_28 (Activation)     (None, 256, 256, 32  0           ['batch_normalization_40[0][0]'] \n",
      "                                )                                                                 \n",
      "                                                                                                  \n",
      " conv2d_43 (Conv2D)             (None, 256, 256, 32  2592        ['concatenate_3[0][0]']          \n",
      "                                )                                                                 \n",
      "                                                                                                  \n",
      " conv2d_42 (Conv2D)             (None, 256, 256, 32  9248        ['activation_28[0][0]']          \n",
      "                                )                                                                 \n",
      "                                                                                                  \n",
      " batch_normalization_41 (BatchN  (None, 256, 256, 32  128        ['conv2d_43[0][0]']              \n",
      " ormalization)                  )                                                                 \n",
      "                                                                                                  \n",
      " add_13 (Add)                   (None, 256, 256, 32  0           ['conv2d_42[0][0]',              \n",
      "                                )                                 'batch_normalization_41[0][0]'] \n",
      "                                                                                                  \n",
      " global_average_pooling2d_8 (Gl  (None, 32)          0           ['add_13[0][0]']                 \n",
      " obalAveragePooling2D)                                                                            \n",
      "                                                                                                  \n",
      " reshape_8 (Reshape)            (None, 1, 1, 32)     0           ['global_average_pooling2d_8[0][0\n",
      "                                                                 ]']                              \n",
      "                                                                                                  \n",
      " dense_16 (Dense)               (None, 1, 1, 4)      128         ['reshape_8[0][0]']              \n",
      "                                                                                                  \n",
      " dense_17 (Dense)               (None, 1, 1, 32)     128         ['dense_16[0][0]']               \n",
      "                                                                                                  \n",
      " multiply_12 (Multiply)         (None, 256, 256, 32  0           ['add_13[0][0]',                 \n",
      "                                )                                 'dense_17[0][0]']               \n",
      "                                                                                                  \n",
      " conv2d_44 (Conv2D)             (None, 256, 256, 16  4624        ['multiply_12[0][0]']            \n",
      "                                )                                                                 \n",
      "                                                                                                  \n",
      " conv2d_45 (Conv2D)             (None, 256, 256, 16  4624        ['multiply_12[0][0]']            \n",
      "                                )                                                                 \n",
      "                                                                                                  \n",
      " conv2d_46 (Conv2D)             (None, 256, 256, 16  4624        ['multiply_12[0][0]']            \n",
      "                                )                                                                 \n",
      "                                                                                                  \n",
      " conv2d_47 (Conv2D)             (None, 256, 256, 16  4624        ['multiply_12[0][0]']            \n",
      "                                )                                                                 \n",
      "                                                                                                  \n",
      " batch_normalization_42 (BatchN  (None, 256, 256, 16  64         ['conv2d_44[0][0]']              \n",
      " ormalization)                  )                                                                 \n",
      "                                                                                                  \n",
      " batch_normalization_43 (BatchN  (None, 256, 256, 16  64         ['conv2d_45[0][0]']              \n",
      " ormalization)                  )                                                                 \n",
      "                                                                                                  \n",
      " batch_normalization_44 (BatchN  (None, 256, 256, 16  64         ['conv2d_46[0][0]']              \n",
      " ormalization)                  )                                                                 \n",
      "                                                                                                  \n",
      " batch_normalization_45 (BatchN  (None, 256, 256, 16  64         ['conv2d_47[0][0]']              \n",
      " ormalization)                  )                                                                 \n",
      "                                                                                                  \n",
      " add_14 (Add)                   (None, 256, 256, 16  0           ['batch_normalization_42[0][0]', \n",
      "                                )                                 'batch_normalization_43[0][0]', \n",
      "                                                                  'batch_normalization_44[0][0]', \n",
      "                                                                  'batch_normalization_45[0][0]'] \n",
      "                                                                                                  \n",
      " conv2d_48 (Conv2D)             (None, 256, 256, 16  272         ['add_14[0][0]']                 \n",
      "                                )                                                                 \n",
      "                                                                                                  \n",
      " conv2d_49 (Conv2D)             (None, 256, 256, 1)  17          ['conv2d_48[0][0]']              \n",
      "                                                                                                  \n",
      " activation_29 (Activation)     (None, 256, 256, 1)  0           ['conv2d_49[0][0]']              \n",
      "                                                                                                  \n",
      "==================================================================================================\n",
      "Total params: 16,313,073\n",
      "Trainable params: 16,297,745\n",
      "Non-trainable params: 15,328\n",
      "__________________________________________________________________________________________________\n",
      "None\n"
     ]
    }
   ],
   "source": [
    "model = build_model(Input_Shape=(image_size, image_size, 3))\n",
    "print(model.summary())"
   ]
  },
  {
   "cell_type": "code",
   "execution_count": 13,
   "metadata": {
    "execution": {
     "iopub.execute_input": "2023-05-16T10:50:22.372223Z",
     "iopub.status.busy": "2023-05-16T10:50:22.371770Z",
     "iopub.status.idle": "2023-05-16T10:50:22.408819Z",
     "shell.execute_reply": "2023-05-16T10:50:22.407896Z",
     "shell.execute_reply.started": "2023-05-16T10:50:22.372189Z"
    }
   },
   "outputs": [],
   "source": [
    "metrics = [Recall(), Precision(), dice_coef, MeanIoU(num_classes=2)]\n",
    "\n",
    "model.compile(\n",
    "    optimizer = Nadam(lr),\n",
    "    loss = dice_loss,\n",
    "    metrics = metrics\n",
    ")\n",
    "\n",
    "cp_path = \"./cp_resunetpp_{epoch:03d}.h5\"\n",
    "\n",
    "checkpoint = ModelCheckpoint(cp_path, verbose=1, save_best_only=True, monitor='val_loss', save_freq='epoch')\n",
    "reduce_lr = ReduceLROnPlateau(monitor='val_loss', factor=0.1, patience=5, min_lr=1e-6, verbose=1)\n",
    "early_stopping = EarlyStopping(monitor='val_loss', patience=7, restore_best_weights=True)\n",
    "callbacks = [checkpoint, reduce_lr, early_stopping]"
   ]
  },
  {
   "cell_type": "code",
   "execution_count": 14,
   "metadata": {
    "execution": {
     "iopub.execute_input": "2023-05-16T10:50:27.737277Z",
     "iopub.status.busy": "2023-05-16T10:50:27.735690Z",
     "iopub.status.idle": "2023-05-16T12:51:58.444705Z",
     "shell.execute_reply": "2023-05-16T12:51:58.443789Z",
     "shell.execute_reply.started": "2023-05-16T10:50:27.737235Z"
    }
   },
   "outputs": [
    {
     "name": "stdout",
     "output_type": "stream",
     "text": [
      "Epoch 1/60\n",
      "500/500 [==============================] - ETA: 0s - loss: 0.5705 - recall: 0.6987 - precision: 0.3677 - dice_coef: 0.4295 - mean_io_u: 0.4725\n",
      "Epoch 1: val_loss improved from inf to 0.58996, saving model to ./cp_resunetpp_001.h5\n",
      "500/500 [==============================] - 283s 505ms/step - loss: 0.5705 - recall: 0.6987 - precision: 0.3677 - dice_coef: 0.4295 - mean_io_u: 0.4725 - val_loss: 0.5900 - val_recall: 0.4214 - val_precision: 0.3939 - val_dice_coef: 0.4100 - val_mean_io_u: 0.4318 - lr: 1.0000e-04\n",
      "Epoch 2/60\n",
      "500/500 [==============================] - ETA: 0s - loss: 0.5306 - recall: 0.6508 - precision: 0.4245 - dice_coef: 0.4694 - mean_io_u: 0.5389\n",
      "Epoch 2: val_loss did not improve from 0.58996\n",
      "500/500 [==============================] - 240s 479ms/step - loss: 0.5306 - recall: 0.6508 - precision: 0.4245 - dice_coef: 0.4694 - mean_io_u: 0.5389 - val_loss: 0.5953 - val_recall: 0.6181 - val_precision: 0.3191 - val_dice_coef: 0.4047 - val_mean_io_u: 0.5663 - lr: 1.0000e-04\n",
      "Epoch 3/60\n",
      "500/500 [==============================] - ETA: 0s - loss: 0.5072 - recall: 0.6510 - precision: 0.4576 - dice_coef: 0.4928 - mean_io_u: 0.5582\n",
      "Epoch 3: val_loss improved from 0.58996 to 0.55765, saving model to ./cp_resunetpp_003.h5\n",
      "500/500 [==============================] - 240s 480ms/step - loss: 0.5072 - recall: 0.6510 - precision: 0.4576 - dice_coef: 0.4928 - mean_io_u: 0.5582 - val_loss: 0.5576 - val_recall: 0.5850 - val_precision: 0.3693 - val_dice_coef: 0.4424 - val_mean_io_u: 0.5818 - lr: 1.0000e-04\n",
      "Epoch 4/60\n",
      "500/500 [==============================] - ETA: 0s - loss: 0.4897 - recall: 0.6444 - precision: 0.4885 - dice_coef: 0.5103 - mean_io_u: 0.5700\n",
      "Epoch 4: val_loss did not improve from 0.55765\n",
      "500/500 [==============================] - 239s 478ms/step - loss: 0.4897 - recall: 0.6444 - precision: 0.4885 - dice_coef: 0.5103 - mean_io_u: 0.5700 - val_loss: 0.5931 - val_recall: 0.6943 - val_precision: 0.3036 - val_dice_coef: 0.4069 - val_mean_io_u: 0.5841 - lr: 1.0000e-04\n",
      "Epoch 5/60\n",
      "500/500 [==============================] - ETA: 0s - loss: 0.4710 - recall: 0.6354 - precision: 0.5153 - dice_coef: 0.5290 - mean_io_u: 0.5805\n",
      "Epoch 5: val_loss improved from 0.55765 to 0.42223, saving model to ./cp_resunetpp_005.h5\n",
      "500/500 [==============================] - 240s 480ms/step - loss: 0.4710 - recall: 0.6354 - precision: 0.5153 - dice_coef: 0.5290 - mean_io_u: 0.5805 - val_loss: 0.4222 - val_recall: 0.6907 - val_precision: 0.5281 - val_dice_coef: 0.5778 - val_mean_io_u: 0.6448 - lr: 1.0000e-04\n",
      "Epoch 6/60\n",
      "500/500 [==============================] - ETA: 0s - loss: 0.4536 - recall: 0.6268 - precision: 0.5450 - dice_coef: 0.5464 - mean_io_u: 0.5882\n",
      "Epoch 6: val_loss improved from 0.42223 to 0.41873, saving model to ./cp_resunetpp_006.h5\n",
      "500/500 [==============================] - 240s 481ms/step - loss: 0.4536 - recall: 0.6268 - precision: 0.5450 - dice_coef: 0.5464 - mean_io_u: 0.5882 - val_loss: 0.4187 - val_recall: 0.6956 - val_precision: 0.5136 - val_dice_coef: 0.5813 - val_mean_io_u: 0.6353 - lr: 1.0000e-04\n",
      "Epoch 7/60\n",
      "500/500 [==============================] - ETA: 0s - loss: 0.4347 - recall: 0.6319 - precision: 0.5716 - dice_coef: 0.5653 - mean_io_u: 0.6005\n",
      "Epoch 7: val_loss improved from 0.41873 to 0.31414, saving model to ./cp_resunetpp_007.h5\n",
      "500/500 [==============================] - 240s 481ms/step - loss: 0.4347 - recall: 0.6319 - precision: 0.5716 - dice_coef: 0.5653 - mean_io_u: 0.6005 - val_loss: 0.3141 - val_recall: 0.6410 - val_precision: 0.7261 - val_dice_coef: 0.6859 - val_mean_io_u: 0.6612 - lr: 1.0000e-04\n",
      "Epoch 8/60\n",
      "500/500 [==============================] - ETA: 0s - loss: 0.3939 - recall: 0.6277 - precision: 0.6373 - dice_coef: 0.6061 - mean_io_u: 0.6257\n",
      "Epoch 9: val_loss improved from 0.31414 to 0.29687, saving model to ./cp_resunetpp_009.h5\n",
      "500/500 [==============================] - 241s 481ms/step - loss: 0.3939 - recall: 0.6277 - precision: 0.6373 - dice_coef: 0.6061 - mean_io_u: 0.6257 - val_loss: 0.2969 - val_recall: 0.6638 - val_precision: 0.7267 - val_dice_coef: 0.7031 - val_mean_io_u: 0.6902 - lr: 1.0000e-04\n",
      "Epoch 10/60\n",
      "500/500 [==============================] - ETA: 0s - loss: 0.3707 - recall: 0.6352 - precision: 0.6705 - dice_coef: 0.6293 - mean_io_u: 0.6391\n",
      "Epoch 10: val_loss did not improve from 0.29687\n",
      "500/500 [==============================] - 240s 479ms/step - loss: 0.3707 - recall: 0.6352 - precision: 0.6705 - dice_coef: 0.6293 - mean_io_u: 0.6391 - val_loss: 0.4185 - val_recall: 0.8165 - val_precision: 0.4739 - val_dice_coef: 0.5815 - val_mean_io_u: 0.6667 - lr: 1.0000e-04\n",
      "Epoch 11/60\n",
      "500/500 [==============================] - ETA: 0s - loss: 0.3460 - recall: 0.6513 - precision: 0.6980 - dice_coef: 0.6540 - mean_io_u: 0.6550\n",
      "Epoch 11: val_loss did not improve from 0.29687\n",
      "500/500 [==============================] - 240s 479ms/step - loss: 0.3460 - recall: 0.6513 - precision: 0.6980 - dice_coef: 0.6540 - mean_io_u: 0.6550 - val_loss: 0.3157 - val_recall: 0.7101 - val_precision: 0.6568 - val_dice_coef: 0.6843 - val_mean_io_u: 0.6768 - lr: 1.0000e-04\n",
      "Epoch 12/60\n",
      "500/500 [==============================] - ETA: 0s - loss: 0.3154 - recall: 0.6813 - precision: 0.7263 - dice_coef: 0.6846 - mean_io_u: 0.6768\n",
      "Epoch 12: val_loss did not improve from 0.29687\n",
      "500/500 [==============================] - 239s 478ms/step - loss: 0.3154 - recall: 0.6813 - precision: 0.7263 - dice_coef: 0.6846 - mean_io_u: 0.6768 - val_loss: 0.3098 - val_recall: 0.6841 - val_precision: 0.7001 - val_dice_coef: 0.6902 - val_mean_io_u: 0.6925 - lr: 1.0000e-04\n",
      "Epoch 13/60\n",
      "500/500 [==============================] - ETA: 0s - loss: 0.2830 - recall: 0.7107 - precision: 0.7604 - dice_coef: 0.7170 - mean_io_u: 0.7051\n",
      "Epoch 13: val_loss improved from 0.29687 to 0.29048, saving model to ./cp_resunetpp_013.h5\n",
      "500/500 [==============================] - 240s 479ms/step - loss: 0.2830 - recall: 0.7107 - precision: 0.7604 - dice_coef: 0.7170 - mean_io_u: 0.7051 - val_loss: 0.2905 - val_recall: 0.6742 - val_precision: 0.7165 - val_dice_coef: 0.7095 - val_mean_io_u: 0.7036 - lr: 1.0000e-04\n",
      "Epoch 14/60\n",
      "500/500 [==============================] - ETA: 0s - loss: 0.2602 - recall: 0.7334 - precision: 0.7811 - dice_coef: 0.7398 - mean_io_u: 0.7260\n",
      "Epoch 14: val_loss improved from 0.29048 to 0.27720, saving model to ./cp_resunetpp_014.h5\n",
      "500/500 [==============================] - 245s 489ms/step - loss: 0.2602 - recall: 0.7334 - precision: 0.7811 - dice_coef: 0.7398 - mean_io_u: 0.7260 - val_loss: 0.2772 - val_recall: 0.5857 - val_precision: 0.8325 - val_dice_coef: 0.7228 - val_mean_io_u: 0.6549 - lr: 1.0000e-04\n",
      "Epoch 15/60\n",
      "500/500 [==============================] - ETA: 0s - loss: 0.2424 - recall: 0.7445 - precision: 0.8013 - dice_coef: 0.7576 - mean_io_u: 0.7441\n",
      "Epoch 15: val_loss improved from 0.27720 to 0.26921, saving model to ./cp_resunetpp_015.h5\n",
      "500/500 [==============================] - 240s 481ms/step - loss: 0.2424 - recall: 0.7445 - precision: 0.8013 - dice_coef: 0.7576 - mean_io_u: 0.7441 - val_loss: 0.2692 - val_recall: 0.5840 - val_precision: 0.8749 - val_dice_coef: 0.7308 - val_mean_io_u: 0.6595 - lr: 1.0000e-04\n",
      "Epoch 16/60\n",
      "500/500 [==============================] - ETA: 0s - loss: 0.2112 - recall: 0.7703 - precision: 0.8323 - dice_coef: 0.7888 - mean_io_u: 0.7699\n",
      "Epoch 16: val_loss improved from 0.26921 to 0.25317, saving model to ./cp_resunetpp_016.h5\n",
      "500/500 [==============================] - 240s 480ms/step - loss: 0.2112 - recall: 0.7703 - precision: 0.8323 - dice_coef: 0.7888 - mean_io_u: 0.7699 - val_loss: 0.2532 - val_recall: 0.6461 - val_precision: 0.8091 - val_dice_coef: 0.7468 - val_mean_io_u: 0.6844 - lr: 1.0000e-04\n",
      "Epoch 17/60\n",
      "500/500 [==============================] - ETA: 0s - loss: 0.2019 - recall: 0.7768 - precision: 0.8465 - dice_coef: 0.7981 - mean_io_u: 0.7792\n",
      "Epoch 17: val_loss improved from 0.25317 to 0.24310, saving model to ./cp_resunetpp_017.h5\n",
      "500/500 [==============================] - 240s 480ms/step - loss: 0.2019 - recall: 0.7768 - precision: 0.8465 - dice_coef: 0.7981 - mean_io_u: 0.7792 - val_loss: 0.2431 - val_recall: 0.7230 - val_precision: 0.7498 - val_dice_coef: 0.7569 - val_mean_io_u: 0.7347 - lr: 1.0000e-04\n",
      "Epoch 18/60\n",
      "500/500 [==============================] - ETA: 0s - loss: 0.1841 - recall: 0.7966 - precision: 0.8563 - dice_coef: 0.8159 - mean_io_u: 0.7957\n",
      "Epoch 18: val_loss improved from 0.24310 to 0.23728, saving model to ./cp_resunetpp_018.h5\n",
      "500/500 [==============================] - 240s 480ms/step - loss: 0.1841 - recall: 0.7966 - precision: 0.8563 - dice_coef: 0.8159 - mean_io_u: 0.7957 - val_loss: 0.2373 - val_recall: 0.8022 - val_precision: 0.6970 - val_dice_coef: 0.7627 - val_mean_io_u: 0.7790 - lr: 1.0000e-04\n",
      "Epoch 19/60\n",
      "500/500 [==============================] - ETA: 0s - loss: 0.1758 - recall: 0.7980 - precision: 0.8653 - dice_coef: 0.8242 - mean_io_u: 0.8013\n",
      "Epoch 19: val_loss did not improve from 0.23728\n",
      "500/500 [==============================] - 240s 480ms/step - loss: 0.1758 - recall: 0.7980 - precision: 0.8653 - dice_coef: 0.8242 - mean_io_u: 0.8013 - val_loss: 0.3311 - val_recall: 0.5655 - val_precision: 0.7592 - val_dice_coef: 0.6689 - val_mean_io_u: 0.6565 - lr: 1.0000e-04\n",
      "Epoch 20/60\n",
      "500/500 [==============================] - ETA: 0s - loss: 0.1592 - recall: 0.8107 - precision: 0.8790 - dice_coef: 0.8408 - mean_io_u: 0.8167\n",
      "Epoch 20: val_loss did not improve from 0.23728\n",
      "500/500 [==============================] - 240s 480ms/step - loss: 0.1592 - recall: 0.8107 - precision: 0.8790 - dice_coef: 0.8408 - mean_io_u: 0.8167 - val_loss: 0.4142 - val_recall: 0.3913 - val_precision: 0.8562 - val_dice_coef: 0.5858 - val_mean_io_u: 0.5860 - lr: 1.0000e-04\n",
      "Epoch 21/60\n",
      "500/500 [==============================] - ETA: 0s - loss: 0.1435 - recall: 0.8292 - precision: 0.8955 - dice_coef: 0.8565 - mean_io_u: 0.8348\n",
      "Epoch 21: val_loss did not improve from 0.23728\n",
      "500/500 [==============================] - 240s 480ms/step - loss: 0.1435 - recall: 0.8292 - precision: 0.8955 - dice_coef: 0.8565 - mean_io_u: 0.8348 - val_loss: 0.2770 - val_recall: 0.5854 - val_precision: 0.8522 - val_dice_coef: 0.7230 - val_mean_io_u: 0.7158 - lr: 1.0000e-04\n",
      "Epoch 22/60\n",
      "500/500 [==============================] - ETA: 0s - loss: 0.1513 - recall: 0.8154 - precision: 0.8914 - dice_coef: 0.8487 - mean_io_u: 0.8237\n",
      "Epoch 22: val_loss did not improve from 0.23728\n",
      "500/500 [==============================] - 240s 479ms/step - loss: 0.1513 - recall: 0.8154 - precision: 0.8914 - dice_coef: 0.8487 - mean_io_u: 0.8237 - val_loss: 0.3787 - val_recall: 0.4237 - val_precision: 0.8709 - val_dice_coef: 0.6213 - val_mean_io_u: 0.5956 - lr: 1.0000e-04\n",
      "Epoch 23/60\n",
      "500/500 [==============================] - ETA: 0s - loss: 0.1290 - recall: 0.8367 - precision: 0.9067 - dice_coef: 0.8710 - mean_io_u: 0.8475\n",
      "Epoch 23: val_loss improved from 0.23728 to 0.22203, saving model to ./cp_resunetpp_023.h5\n",
      "500/500 [==============================] - 241s 481ms/step - loss: 0.1290 - recall: 0.8367 - precision: 0.9067 - dice_coef: 0.8710 - mean_io_u: 0.8475 - val_loss: 0.2220 - val_recall: 0.7430 - val_precision: 0.7636 - val_dice_coef: 0.7780 - val_mean_io_u: 0.7703 - lr: 1.0000e-04\n",
      "Epoch 24/60\n",
      "500/500 [==============================] - ETA: 0s - loss: 0.1175 - recall: 0.8444 - precision: 0.9218 - dice_coef: 0.8825 - mean_io_u: 0.8595\n",
      "Epoch 24: val_loss did not improve from 0.22203\n",
      "500/500 [==============================] - 240s 480ms/step - loss: 0.1175 - recall: 0.8444 - precision: 0.9218 - dice_coef: 0.8825 - mean_io_u: 0.8595 - val_loss: 0.2468 - val_recall: 0.6519 - val_precision: 0.8103 - val_dice_coef: 0.7532 - val_mean_io_u: 0.7324 - lr: 1.0000e-04\n",
      "Epoch 25/60\n",
      "500/500 [==============================] - ETA: 0s - loss: 0.1256 - recall: 0.8324 - precision: 0.9142 - dice_coef: 0.8744 - mean_io_u: 0.8478\n",
      "Epoch 25: val_loss did not improve from 0.22203\n",
      "500/500 [==============================] - 240s 479ms/step - loss: 0.1256 - recall: 0.8324 - precision: 0.9142 - dice_coef: 0.8744 - mean_io_u: 0.8478 - val_loss: 0.2656 - val_recall: 0.6784 - val_precision: 0.7194 - val_dice_coef: 0.7344 - val_mean_io_u: 0.7337 - lr: 1.0000e-04\n",
      "Epoch 26/60\n",
      "500/500 [==============================] - ETA: 0s - loss: 0.1074 - recall: 0.8555 - precision: 0.9282 - dice_coef: 0.8926 - mean_io_u: 0.8691\n",
      "Epoch 26: val_loss did not improve from 0.22203\n",
      "500/500 [==============================] - 240s 479ms/step - loss: 0.1074 - recall: 0.8555 - precision: 0.9282 - dice_coef: 0.8926 - mean_io_u: 0.8691 - val_loss: 0.3147 - val_recall: 0.5940 - val_precision: 0.6869 - val_dice_coef: 0.6853 - val_mean_io_u: 0.6569 - lr: 1.0000e-04\n",
      "Epoch 27/60\n",
      "500/500 [==============================] - ETA: 0s - loss: 0.0942 - recall: 0.8664 - precision: 0.9398 - dice_coef: 0.9058 - mean_io_u: 0.8826\n",
      "Epoch 27: val_loss did not improve from 0.22203\n",
      "500/500 [==============================] - 240s 479ms/step - loss: 0.0942 - recall: 0.8664 - precision: 0.9398 - dice_coef: 0.9058 - mean_io_u: 0.8826 - val_loss: 0.2593 - val_recall: 0.5886 - val_precision: 0.8477 - val_dice_coef: 0.7407 - val_mean_io_u: 0.7149 - lr: 1.0000e-04\n",
      "Epoch 28/60\n",
      "500/500 [==============================] - ETA: 0s - loss: 0.0905 - recall: 0.8707 - precision: 0.9411 - dice_coef: 0.9095 - mean_io_u: 0.8854\n",
      "Epoch 28: val_loss did not improve from 0.22203\n",
      "\n",
      "Epoch 28: ReduceLROnPlateau reducing learning rate to 9.999999747378752e-06.\n",
      "500/500 [==============================] - 239s 479ms/step - loss: 0.0905 - recall: 0.8707 - precision: 0.9411 - dice_coef: 0.9095 - mean_io_u: 0.8854 - val_loss: 0.2839 - val_recall: 0.5414 - val_precision: 0.8736 - val_dice_coef: 0.7161 - val_mean_io_u: 0.6838 - lr: 1.0000e-04\n",
      "Epoch 29/60\n",
      "500/500 [==============================] - ETA: 0s - loss: 0.0747 - recall: 0.8847 - precision: 0.9564 - dice_coef: 0.9253 - mean_io_u: 0.9027\n",
      "Epoch 29: val_loss did not improve from 0.22203\n",
      "500/500 [==============================] - 240s 480ms/step - loss: 0.0747 - recall: 0.8847 - precision: 0.9564 - dice_coef: 0.9253 - mean_io_u: 0.9027 - val_loss: 0.2807 - val_recall: 0.5394 - val_precision: 0.8877 - val_dice_coef: 0.7193 - val_mean_io_u: 0.6887 - lr: 1.0000e-05\n",
      "Epoch 30/60\n",
      "500/500 [==============================] - ETA: 0s - loss: 0.0676 - recall: 0.8922 - precision: 0.9616 - dice_coef: 0.9324 - mean_io_u: 0.9106\n",
      "Epoch 30: val_loss did not improve from 0.22203\n",
      "500/500 [==============================] - 240s 480ms/step - loss: 0.0676 - recall: 0.8922 - precision: 0.9616 - dice_coef: 0.9324 - mean_io_u: 0.9106 - val_loss: 0.2650 - val_recall: 0.5698 - val_precision: 0.8709 - val_dice_coef: 0.7350 - val_mean_io_u: 0.6957 - lr: 1.0000e-05\n"
     ]
    }
   ],
   "source": [
    "history = model.fit(\n",
    "    train_gen,\n",
    "    batch_size=batch_size,\n",
    "    validation_data=valid_gen,\n",
    "    steps_per_epoch=train_steps,\n",
    "    validation_steps=valid_steps,\n",
    "    epochs=epochs,\n",
    "    callbacks=callbacks\n",
    ")"
   ]
  },
  {
   "cell_type": "code",
   "execution_count": 15,
   "metadata": {
    "execution": {
     "iopub.execute_input": "2023-05-16T13:01:53.880202Z",
     "iopub.status.busy": "2023-05-16T13:01:53.879383Z",
     "iopub.status.idle": "2023-05-16T13:01:54.754907Z",
     "shell.execute_reply": "2023-05-16T13:01:54.753878Z",
     "shell.execute_reply.started": "2023-05-16T13:01:53.880164Z"
    }
   },
   "outputs": [],
   "source": [
    "model.save('./ResUnetppm.h5')"
   ]
  },
  {
   "cell_type": "code",
   "execution_count": 7,
   "metadata": {
    "execution": {
     "iopub.execute_input": "2023-05-16T13:03:55.060010Z",
     "iopub.status.busy": "2023-05-16T13:03:55.059174Z",
     "iopub.status.idle": "2023-05-16T13:03:55.068025Z",
     "shell.execute_reply": "2023-05-16T13:03:55.067099Z",
     "shell.execute_reply.started": "2023-05-16T13:03:55.059971Z"
    }
   },
   "outputs": [],
   "source": [
    "from keras.models import load_model\n",
    "from keras.utils import CustomObjectScope"
   ]
  },
  {
   "cell_type": "code",
   "execution_count": 8,
   "metadata": {
    "execution": {
     "iopub.execute_input": "2023-05-16T13:20:42.988873Z",
     "iopub.status.busy": "2023-05-16T13:20:42.988069Z",
     "iopub.status.idle": "2023-05-16T13:20:42.996458Z",
     "shell.execute_reply": "2023-05-16T13:20:42.994007Z",
     "shell.execute_reply.started": "2023-05-16T13:20:42.988824Z"
    }
   },
   "outputs": [],
   "source": [
    "def mask_to_3d(mask):\n",
    "    mask = np.squeeze(mask)\n",
    "    mask = [mask, mask, mask]\n",
    "    mask = np.transpose(mask, (1, 2, 0))\n",
    "    return mask"
   ]
  },
  {
   "cell_type": "code",
   "execution_count": 9,
   "metadata": {
    "execution": {
     "iopub.execute_input": "2023-05-16T13:21:32.303072Z",
     "iopub.status.busy": "2023-05-16T13:21:32.302657Z",
     "iopub.status.idle": "2023-05-16T13:21:35.440794Z",
     "shell.execute_reply": "2023-05-16T13:21:35.439762Z",
     "shell.execute_reply.started": "2023-05-16T13:21:32.303021Z"
    }
   },
   "outputs": [],
   "source": [
    "model_path = \"D:/Github/CVPR/Finalterm/Project/ResUnetppm.h5\"\n",
    "test_path = \"D:/Datasets/New_Kvasir-SEG/Kvasir-SEG/test/\"\n",
    "\n",
    "image_size = 256\n",
    "batch_size = 1\n",
    "\n",
    "test_image_paths = glob(os.path.join(test_path, \"images\", \"*.*\"))\n",
    "test_mask_paths = glob(os.path.join(test_path, \"masks\", \"*.*\"))\n",
    "test_image_paths.sort()\n",
    "test_mask_paths.sort()\n",
    "\n",
    "with CustomObjectScope({'dice_loss': dice_loss, 'dice_coef': dice_coef}):\n",
    "    model = load_model(model_path)\n"
   ]
  },
  {
   "cell_type": "code",
   "execution_count": 10,
   "metadata": {
    "execution": {
     "iopub.execute_input": "2023-05-16T13:21:44.169688Z",
     "iopub.status.busy": "2023-05-16T13:21:44.169303Z",
     "iopub.status.idle": "2023-05-16T13:21:51.057110Z",
     "shell.execute_reply": "2023-05-16T13:21:51.056087Z",
     "shell.execute_reply.started": "2023-05-16T13:21:44.169657Z"
    }
   },
   "outputs": [
    {
     "name": "stdout",
     "output_type": "stream",
     "text": [
      "100/100 [==============================] - 31s 295ms/step - loss: 0.3594 - recall: 0.4913 - precision: 0.9173 - dice_coef: 0.6406 - mean_io_u: 0.6462\n"
     ]
    },
    {
     "data": {
      "text/plain": [
       "[0.3594329059123993,\n",
       " 0.49132952094078064,\n",
       " 0.9173136353492737,\n",
       " 0.6405670046806335,\n",
       " 0.6462481021881104]"
      ]
     },
     "execution_count": 10,
     "metadata": {},
     "output_type": "execute_result"
    }
   ],
   "source": [
    "# Testing\n",
    "test_steps = len(test_image_paths)//batch_size\n",
    "test_gen = DataGen(image_size, test_image_paths, test_mask_paths, batch_size=batch_size)\n",
    "model.evaluate(test_gen, steps=test_steps, verbose=1)"
   ]
  },
  {
   "cell_type": "code",
   "execution_count": 20,
   "metadata": {
    "execution": {
     "iopub.execute_input": "2023-05-16T13:25:52.598247Z",
     "iopub.status.busy": "2023-05-16T13:25:52.597791Z",
     "iopub.status.idle": "2023-05-16T13:26:04.577783Z",
     "shell.execute_reply": "2023-05-16T13:26:04.576771Z",
     "shell.execute_reply.started": "2023-05-16T13:25:52.598211Z"
    }
   },
   "outputs": [
    {
     "name": "stderr",
     "output_type": "stream",
     "text": [
      "  0%|          | 0/100 [00:00<?, ?it/s]"
     ]
    },
    {
     "name": "stdout",
     "output_type": "stream",
     "text": [
      "1/1 [==============================] - 1s 1s/step\n"
     ]
    },
    {
     "name": "stderr",
     "output_type": "stream",
     "text": [
      "  1%|          | 1/100 [00:01<02:31,  1.53s/it]"
     ]
    },
    {
     "name": "stdout",
     "output_type": "stream",
     "text": [
      "1/1 [==============================] - 0s 42ms/step\n",
      "1/1 [==============================] - 0s 42ms/step\n"
     ]
    },
    {
     "name": "stderr",
     "output_type": "stream",
     "text": [
      "  3%|▎         | 3/100 [00:01<00:45,  2.14it/s]"
     ]
    },
    {
     "name": "stdout",
     "output_type": "stream",
     "text": [
      "1/1 [==============================] - 0s 43ms/step\n"
     ]
    },
    {
     "name": "stderr",
     "output_type": "stream",
     "text": [
      "  4%|▍         | 4/100 [00:01<00:33,  2.83it/s]"
     ]
    },
    {
     "name": "stdout",
     "output_type": "stream",
     "text": [
      "1/1 [==============================] - 0s 42ms/step\n"
     ]
    },
    {
     "name": "stderr",
     "output_type": "stream",
     "text": [
      "  5%|▌         | 5/100 [00:01<00:26,  3.58it/s]"
     ]
    },
    {
     "name": "stdout",
     "output_type": "stream",
     "text": [
      "1/1 [==============================] - 0s 40ms/step\n",
      "1/1 [==============================] - 0s 41ms/step\n"
     ]
    },
    {
     "name": "stderr",
     "output_type": "stream",
     "text": [
      "  7%|▋         | 7/100 [00:02<00:17,  5.27it/s]"
     ]
    },
    {
     "name": "stdout",
     "output_type": "stream",
     "text": [
      "1/1 [==============================] - 0s 40ms/step\n",
      "1/1 [==============================] - 0s 42ms/step\n"
     ]
    },
    {
     "name": "stderr",
     "output_type": "stream",
     "text": [
      "  9%|▉         | 9/100 [00:02<00:13,  6.67it/s]"
     ]
    },
    {
     "name": "stdout",
     "output_type": "stream",
     "text": [
      "1/1 [==============================] - 0s 41ms/step\n"
     ]
    },
    {
     "name": "stderr",
     "output_type": "stream",
     "text": [
      " 10%|█         | 10/100 [00:02<00:13,  6.85it/s]"
     ]
    },
    {
     "name": "stdout",
     "output_type": "stream",
     "text": [
      "1/1 [==============================] - 0s 39ms/step\n",
      "1/1 [==============================] - 0s 39ms/step\n"
     ]
    },
    {
     "name": "stderr",
     "output_type": "stream",
     "text": [
      " 12%|█▏        | 12/100 [00:02<00:10,  8.01it/s]"
     ]
    },
    {
     "name": "stdout",
     "output_type": "stream",
     "text": [
      "1/1 [==============================] - 0s 39ms/step\n",
      "1/1 [==============================] - 0s 40ms/step\n"
     ]
    },
    {
     "name": "stderr",
     "output_type": "stream",
     "text": [
      " 14%|█▍        | 14/100 [00:02<00:09,  8.85it/s]"
     ]
    },
    {
     "name": "stdout",
     "output_type": "stream",
     "text": [
      "1/1 [==============================] - 0s 39ms/step\n"
     ]
    },
    {
     "name": "stderr",
     "output_type": "stream",
     "text": [
      " 15%|█▌        | 15/100 [00:02<00:09,  8.63it/s]"
     ]
    },
    {
     "name": "stdout",
     "output_type": "stream",
     "text": [
      "1/1 [==============================] - 0s 41ms/step\n"
     ]
    },
    {
     "name": "stderr",
     "output_type": "stream",
     "text": [
      " 16%|█▌        | 16/100 [00:03<00:09,  8.44it/s]"
     ]
    },
    {
     "name": "stdout",
     "output_type": "stream",
     "text": [
      "1/1 [==============================] - 0s 43ms/step\n"
     ]
    },
    {
     "name": "stderr",
     "output_type": "stream",
     "text": [
      " 17%|█▋        | 17/100 [00:03<00:09,  8.77it/s]"
     ]
    },
    {
     "name": "stdout",
     "output_type": "stream",
     "text": [
      "1/1 [==============================] - 0s 47ms/step\n"
     ]
    },
    {
     "name": "stderr",
     "output_type": "stream",
     "text": [
      " 18%|█▊        | 18/100 [00:03<00:09,  8.33it/s]"
     ]
    },
    {
     "name": "stdout",
     "output_type": "stream",
     "text": [
      "1/1 [==============================] - 0s 44ms/step\n"
     ]
    },
    {
     "name": "stderr",
     "output_type": "stream",
     "text": [
      " 19%|█▉        | 19/100 [00:03<00:09,  8.57it/s]"
     ]
    },
    {
     "name": "stdout",
     "output_type": "stream",
     "text": [
      "1/1 [==============================] - 0s 44ms/step\n"
     ]
    },
    {
     "name": "stderr",
     "output_type": "stream",
     "text": [
      " 20%|██        | 20/100 [00:03<00:09,  8.19it/s]"
     ]
    },
    {
     "name": "stdout",
     "output_type": "stream",
     "text": [
      "1/1 [==============================] - 0s 41ms/step\n",
      "1/1 [==============================] - 0s 44ms/step\n"
     ]
    },
    {
     "name": "stderr",
     "output_type": "stream",
     "text": [
      " 22%|██▏       | 22/100 [00:03<00:08,  8.98it/s]"
     ]
    },
    {
     "name": "stdout",
     "output_type": "stream",
     "text": [
      "1/1 [==============================] - 0s 42ms/step\n",
      "1/1 [==============================] - 0s 40ms/step\n"
     ]
    },
    {
     "name": "stderr",
     "output_type": "stream",
     "text": [
      " 24%|██▍       | 24/100 [00:03<00:07,  9.52it/s]"
     ]
    },
    {
     "name": "stdout",
     "output_type": "stream",
     "text": [
      "1/1 [==============================] - 0s 41ms/step\n",
      "1/1 [==============================] - 0s 40ms/step\n"
     ]
    },
    {
     "name": "stderr",
     "output_type": "stream",
     "text": [
      " 26%|██▌       | 26/100 [00:04<00:07,  9.92it/s]"
     ]
    },
    {
     "name": "stdout",
     "output_type": "stream",
     "text": [
      "1/1 [==============================] - 0s 39ms/step\n",
      "1/1 [==============================] - 0s 39ms/step\n"
     ]
    },
    {
     "name": "stderr",
     "output_type": "stream",
     "text": [
      " 28%|██▊       | 28/100 [00:04<00:07, 10.20it/s]"
     ]
    },
    {
     "name": "stdout",
     "output_type": "stream",
     "text": [
      "1/1 [==============================] - 0s 39ms/step\n",
      "1/1 [==============================] - 0s 39ms/step\n"
     ]
    },
    {
     "name": "stderr",
     "output_type": "stream",
     "text": [
      " 30%|███       | 30/100 [00:04<00:06, 10.47it/s]"
     ]
    },
    {
     "name": "stdout",
     "output_type": "stream",
     "text": [
      "1/1 [==============================] - 0s 40ms/step\n",
      "1/1 [==============================] - 0s 41ms/step\n"
     ]
    },
    {
     "name": "stderr",
     "output_type": "stream",
     "text": [
      " 32%|███▏      | 32/100 [00:04<00:06, 10.62it/s]"
     ]
    },
    {
     "name": "stdout",
     "output_type": "stream",
     "text": [
      "1/1 [==============================] - 0s 39ms/step\n",
      "1/1 [==============================] - 0s 39ms/step\n"
     ]
    },
    {
     "name": "stderr",
     "output_type": "stream",
     "text": [
      " 34%|███▍      | 34/100 [00:04<00:06, 10.72it/s]"
     ]
    },
    {
     "name": "stdout",
     "output_type": "stream",
     "text": [
      "1/1 [==============================] - 0s 39ms/step\n",
      "1/1 [==============================] - 0s 39ms/step\n"
     ]
    },
    {
     "name": "stderr",
     "output_type": "stream",
     "text": [
      " 36%|███▌      | 36/100 [00:05<00:05, 10.84it/s]"
     ]
    },
    {
     "name": "stdout",
     "output_type": "stream",
     "text": [
      "1/1 [==============================] - 0s 39ms/step\n",
      "1/1 [==============================] - 0s 41ms/step\n"
     ]
    },
    {
     "name": "stderr",
     "output_type": "stream",
     "text": [
      " 38%|███▊      | 38/100 [00:05<00:06, 10.13it/s]"
     ]
    },
    {
     "name": "stdout",
     "output_type": "stream",
     "text": [
      "1/1 [==============================] - 0s 41ms/step\n",
      "1/1 [==============================] - 0s 41ms/step\n"
     ]
    },
    {
     "name": "stderr",
     "output_type": "stream",
     "text": [
      " 40%|████      | 40/100 [00:05<00:05, 10.34it/s]"
     ]
    },
    {
     "name": "stdout",
     "output_type": "stream",
     "text": [
      "1/1 [==============================] - 0s 38ms/step\n",
      "1/1 [==============================] - 0s 40ms/step\n"
     ]
    },
    {
     "name": "stderr",
     "output_type": "stream",
     "text": [
      " 42%|████▏     | 42/100 [00:05<00:05, 10.56it/s]"
     ]
    },
    {
     "name": "stdout",
     "output_type": "stream",
     "text": [
      "1/1 [==============================] - 0s 44ms/step\n",
      "1/1 [==============================] - 0s 39ms/step\n"
     ]
    },
    {
     "name": "stderr",
     "output_type": "stream",
     "text": [
      " 44%|████▍     | 44/100 [00:05<00:05, 10.59it/s]"
     ]
    },
    {
     "name": "stdout",
     "output_type": "stream",
     "text": [
      "1/1 [==============================] - 0s 39ms/step\n",
      "1/1 [==============================] - 0s 39ms/step\n"
     ]
    },
    {
     "name": "stderr",
     "output_type": "stream",
     "text": [
      " 46%|████▌     | 46/100 [00:06<00:05, 10.61it/s]"
     ]
    },
    {
     "name": "stdout",
     "output_type": "stream",
     "text": [
      "1/1 [==============================] - 0s 40ms/step\n",
      "1/1 [==============================] - 0s 39ms/step\n"
     ]
    },
    {
     "name": "stderr",
     "output_type": "stream",
     "text": [
      " 48%|████▊     | 48/100 [00:06<00:04, 10.75it/s]"
     ]
    },
    {
     "name": "stdout",
     "output_type": "stream",
     "text": [
      "1/1 [==============================] - 0s 40ms/step\n",
      "1/1 [==============================] - 0s 39ms/step\n"
     ]
    },
    {
     "name": "stderr",
     "output_type": "stream",
     "text": [
      " 50%|█████     | 50/100 [00:06<00:04, 10.25it/s]"
     ]
    },
    {
     "name": "stdout",
     "output_type": "stream",
     "text": [
      "1/1 [==============================] - 0s 39ms/step\n",
      "1/1 [==============================] - 0s 40ms/step\n"
     ]
    },
    {
     "name": "stderr",
     "output_type": "stream",
     "text": [
      " 52%|█████▏    | 52/100 [00:06<00:04, 10.23it/s]"
     ]
    },
    {
     "name": "stdout",
     "output_type": "stream",
     "text": [
      "1/1 [==============================] - 0s 39ms/step\n",
      "1/1 [==============================] - 0s 40ms/step\n"
     ]
    },
    {
     "name": "stderr",
     "output_type": "stream",
     "text": [
      " 54%|█████▍    | 54/100 [00:06<00:04,  9.86it/s]"
     ]
    },
    {
     "name": "stdout",
     "output_type": "stream",
     "text": [
      "1/1 [==============================] - 0s 42ms/step\n"
     ]
    },
    {
     "name": "stderr",
     "output_type": "stream",
     "text": [
      " 55%|█████▌    | 55/100 [00:06<00:04,  9.87it/s]"
     ]
    },
    {
     "name": "stdout",
     "output_type": "stream",
     "text": [
      "1/1 [==============================] - 0s 40ms/step\n",
      "1/1 [==============================] - 0s 41ms/step\n"
     ]
    },
    {
     "name": "stderr",
     "output_type": "stream",
     "text": [
      " 57%|█████▋    | 57/100 [00:07<00:04, 10.09it/s]"
     ]
    },
    {
     "name": "stdout",
     "output_type": "stream",
     "text": [
      "1/1 [==============================] - 0s 39ms/step\n",
      "1/1 [==============================] - 0s 41ms/step\n"
     ]
    },
    {
     "name": "stderr",
     "output_type": "stream",
     "text": [
      " 59%|█████▉    | 59/100 [00:07<00:03, 10.37it/s]"
     ]
    },
    {
     "name": "stdout",
     "output_type": "stream",
     "text": [
      "1/1 [==============================] - 0s 40ms/step\n",
      "1/1 [==============================] - 0s 39ms/step\n"
     ]
    },
    {
     "name": "stderr",
     "output_type": "stream",
     "text": [
      " 61%|██████    | 61/100 [00:07<00:03, 10.50it/s]"
     ]
    },
    {
     "name": "stdout",
     "output_type": "stream",
     "text": [
      "1/1 [==============================] - 0s 39ms/step\n",
      "1/1 [==============================] - 0s 76ms/step\n"
     ]
    },
    {
     "name": "stderr",
     "output_type": "stream",
     "text": [
      " 63%|██████▎   | 63/100 [00:07<00:04,  8.92it/s]"
     ]
    },
    {
     "name": "stdout",
     "output_type": "stream",
     "text": [
      "1/1 [==============================] - 0s 61ms/step\n"
     ]
    },
    {
     "name": "stderr",
     "output_type": "stream",
     "text": [
      " 64%|██████▍   | 64/100 [00:07<00:04,  8.40it/s]"
     ]
    },
    {
     "name": "stdout",
     "output_type": "stream",
     "text": [
      "1/1 [==============================] - 0s 57ms/step\n"
     ]
    },
    {
     "name": "stderr",
     "output_type": "stream",
     "text": [
      " 65%|██████▌   | 65/100 [00:08<00:04,  8.22it/s]"
     ]
    },
    {
     "name": "stdout",
     "output_type": "stream",
     "text": [
      "1/1 [==============================] - 0s 126ms/step\n"
     ]
    },
    {
     "name": "stderr",
     "output_type": "stream",
     "text": [
      " 66%|██████▌   | 66/100 [00:08<00:05,  6.02it/s]"
     ]
    },
    {
     "name": "stdout",
     "output_type": "stream",
     "text": [
      "1/1 [==============================] - 0s 59ms/step\n"
     ]
    },
    {
     "name": "stderr",
     "output_type": "stream",
     "text": [
      " 67%|██████▋   | 67/100 [00:08<00:05,  6.02it/s]"
     ]
    },
    {
     "name": "stdout",
     "output_type": "stream",
     "text": [
      "1/1 [==============================] - 0s 57ms/step\n"
     ]
    },
    {
     "name": "stderr",
     "output_type": "stream",
     "text": [
      " 68%|██████▊   | 68/100 [00:08<00:04,  6.40it/s]"
     ]
    },
    {
     "name": "stdout",
     "output_type": "stream",
     "text": [
      "1/1 [==============================] - 0s 54ms/step\n"
     ]
    },
    {
     "name": "stderr",
     "output_type": "stream",
     "text": [
      " 69%|██████▉   | 69/100 [00:08<00:04,  6.79it/s]"
     ]
    },
    {
     "name": "stdout",
     "output_type": "stream",
     "text": [
      "1/1 [==============================] - 0s 55ms/step\n"
     ]
    },
    {
     "name": "stderr",
     "output_type": "stream",
     "text": [
      " 70%|███████   | 70/100 [00:08<00:04,  7.12it/s]"
     ]
    },
    {
     "name": "stdout",
     "output_type": "stream",
     "text": [
      "1/1 [==============================] - 0s 41ms/step\n"
     ]
    },
    {
     "name": "stderr",
     "output_type": "stream",
     "text": [
      " 71%|███████   | 71/100 [00:09<00:03,  7.61it/s]"
     ]
    },
    {
     "name": "stdout",
     "output_type": "stream",
     "text": [
      "1/1 [==============================] - 0s 41ms/step\n"
     ]
    },
    {
     "name": "stderr",
     "output_type": "stream",
     "text": [
      " 72%|███████▏  | 72/100 [00:09<00:03,  8.13it/s]"
     ]
    },
    {
     "name": "stdout",
     "output_type": "stream",
     "text": [
      "1/1 [==============================] - 0s 39ms/step\n",
      "1/1 [==============================] - 0s 40ms/step\n"
     ]
    },
    {
     "name": "stderr",
     "output_type": "stream",
     "text": [
      " 74%|███████▍  | 74/100 [00:09<00:02,  9.08it/s]"
     ]
    },
    {
     "name": "stdout",
     "output_type": "stream",
     "text": [
      "1/1 [==============================] - 0s 40ms/step\n",
      "1/1 [==============================] - 0s 39ms/step\n"
     ]
    },
    {
     "name": "stderr",
     "output_type": "stream",
     "text": [
      " 76%|███████▌  | 76/100 [00:09<00:02,  9.64it/s]"
     ]
    },
    {
     "name": "stdout",
     "output_type": "stream",
     "text": [
      "1/1 [==============================] - 0s 39ms/step\n",
      "1/1 [==============================] - 0s 39ms/step\n"
     ]
    },
    {
     "name": "stderr",
     "output_type": "stream",
     "text": [
      " 78%|███████▊  | 78/100 [00:09<00:02,  9.95it/s]"
     ]
    },
    {
     "name": "stdout",
     "output_type": "stream",
     "text": [
      "1/1 [==============================] - 0s 38ms/step\n",
      "1/1 [==============================] - 0s 40ms/step\n"
     ]
    },
    {
     "name": "stderr",
     "output_type": "stream",
     "text": [
      " 80%|████████  | 80/100 [00:09<00:01, 10.28it/s]"
     ]
    },
    {
     "name": "stdout",
     "output_type": "stream",
     "text": [
      "1/1 [==============================] - 0s 40ms/step\n",
      "1/1 [==============================] - 0s 41ms/step\n"
     ]
    },
    {
     "name": "stderr",
     "output_type": "stream",
     "text": [
      " 82%|████████▏ | 82/100 [00:10<00:01,  9.78it/s]"
     ]
    },
    {
     "name": "stdout",
     "output_type": "stream",
     "text": [
      "1/1 [==============================] - 0s 40ms/step\n",
      "1/1 [==============================] - 0s 39ms/step\n"
     ]
    },
    {
     "name": "stderr",
     "output_type": "stream",
     "text": [
      " 84%|████████▍ | 84/100 [00:10<00:01, 10.08it/s]"
     ]
    },
    {
     "name": "stdout",
     "output_type": "stream",
     "text": [
      "1/1 [==============================] - 0s 38ms/step\n",
      "1/1 [==============================] - 0s 40ms/step\n"
     ]
    },
    {
     "name": "stderr",
     "output_type": "stream",
     "text": [
      " 86%|████████▌ | 86/100 [00:10<00:01,  9.80it/s]"
     ]
    },
    {
     "name": "stdout",
     "output_type": "stream",
     "text": [
      "1/1 [==============================] - 0s 42ms/step\n",
      "1/1 [==============================] - 0s 39ms/step\n"
     ]
    },
    {
     "name": "stderr",
     "output_type": "stream",
     "text": [
      " 88%|████████▊ | 88/100 [00:10<00:01, 10.12it/s]"
     ]
    },
    {
     "name": "stdout",
     "output_type": "stream",
     "text": [
      "1/1 [==============================] - 0s 39ms/step\n",
      "1/1 [==============================] - 0s 39ms/step\n"
     ]
    },
    {
     "name": "stderr",
     "output_type": "stream",
     "text": [
      " 90%|█████████ | 90/100 [00:10<00:00, 10.35it/s]"
     ]
    },
    {
     "name": "stdout",
     "output_type": "stream",
     "text": [
      "1/1 [==============================] - 0s 41ms/step\n",
      "1/1 [==============================] - 0s 42ms/step\n"
     ]
    },
    {
     "name": "stderr",
     "output_type": "stream",
     "text": [
      " 92%|█████████▏| 92/100 [00:11<00:00,  9.66it/s]"
     ]
    },
    {
     "name": "stdout",
     "output_type": "stream",
     "text": [
      "1/1 [==============================] - 0s 41ms/step\n"
     ]
    },
    {
     "name": "stderr",
     "output_type": "stream",
     "text": [
      " 93%|█████████▎| 93/100 [00:11<00:00,  9.27it/s]"
     ]
    },
    {
     "name": "stdout",
     "output_type": "stream",
     "text": [
      "1/1 [==============================] - 0s 39ms/step\n",
      "1/1 [==============================] - 0s 38ms/step\n"
     ]
    },
    {
     "name": "stderr",
     "output_type": "stream",
     "text": [
      " 95%|█████████▌| 95/100 [00:11<00:00,  9.79it/s]"
     ]
    },
    {
     "name": "stdout",
     "output_type": "stream",
     "text": [
      "1/1 [==============================] - 0s 39ms/step\n"
     ]
    },
    {
     "name": "stderr",
     "output_type": "stream",
     "text": [
      " 96%|█████████▌| 96/100 [00:11<00:00,  9.38it/s]"
     ]
    },
    {
     "name": "stdout",
     "output_type": "stream",
     "text": [
      "1/1 [==============================] - 0s 40ms/step\n",
      "1/1 [==============================] - 0s 43ms/step\n"
     ]
    },
    {
     "name": "stderr",
     "output_type": "stream",
     "text": [
      " 98%|█████████▊| 98/100 [00:11<00:00,  9.77it/s]"
     ]
    },
    {
     "name": "stdout",
     "output_type": "stream",
     "text": [
      "1/1 [==============================] - 0s 41ms/step\n",
      "1/1 [==============================] - 0s 39ms/step\n"
     ]
    },
    {
     "name": "stderr",
     "output_type": "stream",
     "text": [
      "100%|██████████| 100/100 [00:11<00:00,  8.36it/s]\n"
     ]
    }
   ],
   "source": [
    "# Generating the result\n",
    "for i, path in tqdm(enumerate(test_image_paths), total=len(test_image_paths)):\n",
    "    image = parse_image(test_image_paths[i], image_size)\n",
    "    mask = parse_mask(test_mask_paths[i], image_size)\n",
    "\n",
    "    predict_mask = model.predict(np.expand_dims(image, axis=0))[0]\n",
    "    predict_mask = (predict_mask > 0.5) * 255.0\n",
    "\n",
    "    sep_line = np.ones((image_size, 10, 3)) * 255\n",
    "\n",
    "    mask = mask_to_3d(mask)\n",
    "    predict_mask = mask_to_3d(predict_mask)\n",
    "\n",
    "    all_images = [image * 255, sep_line, mask * 255, sep_line, predict_mask]\n",
    "    cv2.imwrite(f\"./{i}.png\", np.concatenate(all_images, axis=1))"
   ]
  }
 ],
 "metadata": {
  "kernelspec": {
   "display_name": "Python 3 (ipykernel)",
   "language": "python",
   "name": "python3"
  },
  "language_info": {
   "codemirror_mode": {
    "name": "ipython",
    "version": 3
   },
   "file_extension": ".py",
   "mimetype": "text/x-python",
   "name": "python",
   "nbconvert_exporter": "python",
   "pygments_lexer": "ipython3",
   "version": "3.9.7"
  }
 },
 "nbformat": 4,
 "nbformat_minor": 4
}
